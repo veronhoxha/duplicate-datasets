{
 "cells": [
  {
   "cell_type": "markdown",
   "metadata": {},
   "source": [
    "# Comparison of dataset sizes to identify potential duplicates based on size of the dataset (contentSize) with name being a condition as well"
   ]
  },
  {
   "cell_type": "code",
   "execution_count": 60,
   "metadata": {},
   "outputs": [],
   "source": [
    "import pandas as pd\n",
    "import re\n",
    "import plotly.express as px"
   ]
  },
  {
   "cell_type": "code",
   "execution_count": 61,
   "metadata": {},
   "outputs": [],
   "source": [
    "df_kaggle_isic_metadata = pd.read_csv(\"../data/01_isic_datasets_metadata.csv\")\n",
    "df_original_isic_metadata = pd.read_csv(\"../data/isic_challange_datasets.csv\")"
   ]
  },
  {
   "cell_type": "code",
   "execution_count": 62,
   "metadata": {},
   "outputs": [
    {
     "data": {
      "text/html": [
       "<div>\n",
       "<style scoped>\n",
       "    .dataframe tbody tr th:only-of-type {\n",
       "        vertical-align: middle;\n",
       "    }\n",
       "\n",
       "    .dataframe tbody tr th {\n",
       "        vertical-align: top;\n",
       "    }\n",
       "\n",
       "    .dataframe thead th {\n",
       "        text-align: right;\n",
       "    }\n",
       "</style>\n",
       "<table border=\"1\" class=\"dataframe\">\n",
       "  <thead>\n",
       "    <tr style=\"text-align: right;\">\n",
       "      <th></th>\n",
       "      <th>@context.@language</th>\n",
       "      <th>@context.@vocab</th>\n",
       "      <th>@type</th>\n",
       "      <th>name</th>\n",
       "      <th>alternateName</th>\n",
       "      <th>description</th>\n",
       "      <th>url</th>\n",
       "      <th>identifier</th>\n",
       "      <th>creator.@type</th>\n",
       "      <th>creator.name</th>\n",
       "      <th>...</th>\n",
       "      <th>distribution_0.@type</th>\n",
       "      <th>contentUrl</th>\n",
       "      <th>contentSize</th>\n",
       "      <th>encodingFormat</th>\n",
       "      <th>isPrivate</th>\n",
       "      <th>downloadCount</th>\n",
       "      <th>viewCount</th>\n",
       "      <th>voteCount</th>\n",
       "      <th>usabilityRating</th>\n",
       "      <th>conformsTo</th>\n",
       "    </tr>\n",
       "  </thead>\n",
       "  <tbody>\n",
       "    <tr>\n",
       "      <th>0</th>\n",
       "      <td>en</td>\n",
       "      <td>https://schema.org/</td>\n",
       "      <td>Dataset</td>\n",
       "      <td>Skin Cancer ISIC</td>\n",
       "      <td>The skin cancer data. Contains 9 classes of sk...</td>\n",
       "      <td>NaN</td>\n",
       "      <td>https://www.kaggle.com/nodoubttome/skin-cancer...</td>\n",
       "      <td>319080</td>\n",
       "      <td>Person</td>\n",
       "      <td>Andrey Katanskiy</td>\n",
       "      <td>...</td>\n",
       "      <td>DataDownload</td>\n",
       "      <td>https://www.kaggle.com/datasets/nodoubttome/sk...</td>\n",
       "      <td>2048.0</td>\n",
       "      <td>application/zip</td>\n",
       "      <td>False</td>\n",
       "      <td>16071</td>\n",
       "      <td>130705</td>\n",
       "      <td>217</td>\n",
       "      <td>0.750000</td>\n",
       "      <td>http://mlcommons.org/croissant/1.0</td>\n",
       "    </tr>\n",
       "    <tr>\n",
       "      <th>1</th>\n",
       "      <td>en</td>\n",
       "      <td>https://schema.org/</td>\n",
       "      <td>Dataset</td>\n",
       "      <td>All ISIC Data 20240629</td>\n",
       "      <td>All images and metadata in ISIC archive.</td>\n",
       "      <td>NaN</td>\n",
       "      <td>https://www.kaggle.com/tomooinubushi/all-isic-...</td>\n",
       "      <td>5302785</td>\n",
       "      <td>Person</td>\n",
       "      <td>tomoo inubushi</td>\n",
       "      <td>...</td>\n",
       "      <td>DataDownload</td>\n",
       "      <td>https://www.kaggle.com/datasets/tomooinubushi/...</td>\n",
       "      <td>75776.0</td>\n",
       "      <td>application/zip</td>\n",
       "      <td>False</td>\n",
       "      <td>365</td>\n",
       "      <td>3412</td>\n",
       "      <td>55</td>\n",
       "      <td>0.764706</td>\n",
       "      <td>http://mlcommons.org/croissant/1.0</td>\n",
       "    </tr>\n",
       "    <tr>\n",
       "      <th>2</th>\n",
       "      <td>en</td>\n",
       "      <td>https://schema.org/</td>\n",
       "      <td>Dataset</td>\n",
       "      <td>ISIC 2020 JPG 256x256 RESIZED</td>\n",
       "      <td>NaN</td>\n",
       "      <td>NaN</td>\n",
       "      <td>https://www.kaggle.com/nischaydnk/isic-2020-jp...</td>\n",
       "      <td>5295545</td>\n",
       "      <td>Person</td>\n",
       "      <td>Nischay Dhankhar</td>\n",
       "      <td>...</td>\n",
       "      <td>DataDownload</td>\n",
       "      <td>https://www.kaggle.com/datasets/nischaydnk/isi...</td>\n",
       "      <td>595.0</td>\n",
       "      <td>application/zip</td>\n",
       "      <td>False</td>\n",
       "      <td>677</td>\n",
       "      <td>2005</td>\n",
       "      <td>48</td>\n",
       "      <td>0.882353</td>\n",
       "      <td>http://mlcommons.org/croissant/1.0</td>\n",
       "    </tr>\n",
       "    <tr>\n",
       "      <th>3</th>\n",
       "      <td>en</td>\n",
       "      <td>https://schema.org/</td>\n",
       "      <td>Dataset</td>\n",
       "      <td>ISIC 2019 JPG 224x224 RESIZED</td>\n",
       "      <td>ISIC 2019 resized dataset</td>\n",
       "      <td>NaN</td>\n",
       "      <td>https://www.kaggle.com/nischaydnk/isic-2019-jp...</td>\n",
       "      <td>5295517</td>\n",
       "      <td>Person</td>\n",
       "      <td>Nischay Dhankhar</td>\n",
       "      <td>...</td>\n",
       "      <td>DataDownload</td>\n",
       "      <td>https://www.kaggle.com/datasets/nischaydnk/isi...</td>\n",
       "      <td>355.0</td>\n",
       "      <td>application/zip</td>\n",
       "      <td>False</td>\n",
       "      <td>553</td>\n",
       "      <td>1872</td>\n",
       "      <td>39</td>\n",
       "      <td>0.941176</td>\n",
       "      <td>http://mlcommons.org/croissant/1.0</td>\n",
       "    </tr>\n",
       "    <tr>\n",
       "      <th>4</th>\n",
       "      <td>en</td>\n",
       "      <td>https://schema.org/</td>\n",
       "      <td>Dataset</td>\n",
       "      <td>JPEG ISIC 2019 512x512</td>\n",
       "      <td>NaN</td>\n",
       "      <td>NaN</td>\n",
       "      <td>https://www.kaggle.com/cdeotte/jpeg-isic2019-5...</td>\n",
       "      <td>762203</td>\n",
       "      <td>Person</td>\n",
       "      <td>Chris Deotte</td>\n",
       "      <td>...</td>\n",
       "      <td>DataDownload</td>\n",
       "      <td>https://www.kaggle.com/datasets/cdeotte/jpeg-i...</td>\n",
       "      <td>1024.0</td>\n",
       "      <td>application/zip</td>\n",
       "      <td>False</td>\n",
       "      <td>2424</td>\n",
       "      <td>7074</td>\n",
       "      <td>54</td>\n",
       "      <td>0.588235</td>\n",
       "      <td>http://mlcommons.org/croissant/1.0</td>\n",
       "    </tr>\n",
       "    <tr>\n",
       "      <th>...</th>\n",
       "      <td>...</td>\n",
       "      <td>...</td>\n",
       "      <td>...</td>\n",
       "      <td>...</td>\n",
       "      <td>...</td>\n",
       "      <td>...</td>\n",
       "      <td>...</td>\n",
       "      <td>...</td>\n",
       "      <td>...</td>\n",
       "      <td>...</td>\n",
       "      <td>...</td>\n",
       "      <td>...</td>\n",
       "      <td>...</td>\n",
       "      <td>...</td>\n",
       "      <td>...</td>\n",
       "      <td>...</td>\n",
       "      <td>...</td>\n",
       "      <td>...</td>\n",
       "      <td>...</td>\n",
       "      <td>...</td>\n",
       "      <td>...</td>\n",
       "    </tr>\n",
       "    <tr>\n",
       "      <th>853</th>\n",
       "      <td>en</td>\n",
       "      <td>https://schema.org/</td>\n",
       "      <td>Dataset</td>\n",
       "      <td>4000ISIC19Balanced</td>\n",
       "      <td>NaN</td>\n",
       "      <td>NaN</td>\n",
       "      <td>https://www.kaggle.com/manirujjamanmonir/4000i...</td>\n",
       "      <td>3374258</td>\n",
       "      <td>Person</td>\n",
       "      <td>Manirujjaman Monir</td>\n",
       "      <td>...</td>\n",
       "      <td>DataDownload</td>\n",
       "      <td>https://www.kaggle.com/datasets/manirujjamanmo...</td>\n",
       "      <td>6144.0</td>\n",
       "      <td>application/zip</td>\n",
       "      <td>False</td>\n",
       "      <td>2</td>\n",
       "      <td>73</td>\n",
       "      <td>0</td>\n",
       "      <td>0.000000</td>\n",
       "      <td>http://mlcommons.org/croissant/1.0</td>\n",
       "    </tr>\n",
       "    <tr>\n",
       "      <th>854</th>\n",
       "      <td>en</td>\n",
       "      <td>https://schema.org/</td>\n",
       "      <td>Dataset</td>\n",
       "      <td>melanoma_isic</td>\n",
       "      <td>NaN</td>\n",
       "      <td>NaN</td>\n",
       "      <td>https://www.kaggle.com/chitrapsg/melanoma-isic</td>\n",
       "      <td>3501446</td>\n",
       "      <td>Person</td>\n",
       "      <td>Chitra Govindasamy</td>\n",
       "      <td>...</td>\n",
       "      <td>DataDownload</td>\n",
       "      <td>https://www.kaggle.com/datasets/chitrapsg/mela...</td>\n",
       "      <td>786.0</td>\n",
       "      <td>application/zip</td>\n",
       "      <td>False</td>\n",
       "      <td>3</td>\n",
       "      <td>75</td>\n",
       "      <td>0</td>\n",
       "      <td>0.000000</td>\n",
       "      <td>http://mlcommons.org/croissant/1.0</td>\n",
       "    </tr>\n",
       "    <tr>\n",
       "      <th>855</th>\n",
       "      <td>en</td>\n",
       "      <td>https://schema.org/</td>\n",
       "      <td>Dataset</td>\n",
       "      <td>siim_isic_2020_leukemia_dataset</td>\n",
       "      <td>NaN</td>\n",
       "      <td>NaN</td>\n",
       "      <td>https://www.kaggle.com/rajibbag1/siim-isic-202...</td>\n",
       "      <td>4911856</td>\n",
       "      <td>Person</td>\n",
       "      <td>RAJIB BAG_1</td>\n",
       "      <td>...</td>\n",
       "      <td>DataDownload</td>\n",
       "      <td>https://www.kaggle.com/datasets/rajibbag1/siim...</td>\n",
       "      <td>2048.0</td>\n",
       "      <td>application/zip</td>\n",
       "      <td>False</td>\n",
       "      <td>0</td>\n",
       "      <td>18</td>\n",
       "      <td>0</td>\n",
       "      <td>0.000000</td>\n",
       "      <td>http://mlcommons.org/croissant/1.0</td>\n",
       "    </tr>\n",
       "    <tr>\n",
       "      <th>856</th>\n",
       "      <td>en</td>\n",
       "      <td>https://schema.org/</td>\n",
       "      <td>Dataset</td>\n",
       "      <td>data_isic1718</td>\n",
       "      <td>NaN</td>\n",
       "      <td>NaN</td>\n",
       "      <td>https://www.kaggle.com/bugakakak/data-isic1718</td>\n",
       "      <td>4788617</td>\n",
       "      <td>Person</td>\n",
       "      <td>bugakakak</td>\n",
       "      <td>...</td>\n",
       "      <td>DataDownload</td>\n",
       "      <td>https://www.kaggle.com/datasets/bugakakak/data...</td>\n",
       "      <td>261.0</td>\n",
       "      <td>application/zip</td>\n",
       "      <td>False</td>\n",
       "      <td>0</td>\n",
       "      <td>16</td>\n",
       "      <td>0</td>\n",
       "      <td>0.000000</td>\n",
       "      <td>http://mlcommons.org/croissant/1.0</td>\n",
       "    </tr>\n",
       "    <tr>\n",
       "      <th>857</th>\n",
       "      <td>en</td>\n",
       "      <td>https://schema.org/</td>\n",
       "      <td>Dataset</td>\n",
       "      <td>Linear_exact_ISIC_2017_test</td>\n",
       "      <td>NaN</td>\n",
       "      <td>NaN</td>\n",
       "      <td>https://www.kaggle.com/sujansarkar/linear-exac...</td>\n",
       "      <td>3804149</td>\n",
       "      <td>Person</td>\n",
       "      <td>Sujan Sarkar</td>\n",
       "      <td>...</td>\n",
       "      <td>DataDownload</td>\n",
       "      <td>https://www.kaggle.com/datasets/sujansarkar/li...</td>\n",
       "      <td>54.0</td>\n",
       "      <td>application/zip</td>\n",
       "      <td>False</td>\n",
       "      <td>1</td>\n",
       "      <td>39</td>\n",
       "      <td>0</td>\n",
       "      <td>0.000000</td>\n",
       "      <td>http://mlcommons.org/croissant/1.0</td>\n",
       "    </tr>\n",
       "  </tbody>\n",
       "</table>\n",
       "<p>858 rows × 26 columns</p>\n",
       "</div>"
      ],
      "text/plain": [
       "    @context.@language      @context.@vocab    @type  \\\n",
       "0                   en  https://schema.org/  Dataset   \n",
       "1                   en  https://schema.org/  Dataset   \n",
       "2                   en  https://schema.org/  Dataset   \n",
       "3                   en  https://schema.org/  Dataset   \n",
       "4                   en  https://schema.org/  Dataset   \n",
       "..                 ...                  ...      ...   \n",
       "853                 en  https://schema.org/  Dataset   \n",
       "854                 en  https://schema.org/  Dataset   \n",
       "855                 en  https://schema.org/  Dataset   \n",
       "856                 en  https://schema.org/  Dataset   \n",
       "857                 en  https://schema.org/  Dataset   \n",
       "\n",
       "                                name  \\\n",
       "0                   Skin Cancer ISIC   \n",
       "1             All ISIC Data 20240629   \n",
       "2      ISIC 2020 JPG 256x256 RESIZED   \n",
       "3      ISIC 2019 JPG 224x224 RESIZED   \n",
       "4             JPEG ISIC 2019 512x512   \n",
       "..                               ...   \n",
       "853               4000ISIC19Balanced   \n",
       "854                    melanoma_isic   \n",
       "855  siim_isic_2020_leukemia_dataset   \n",
       "856                    data_isic1718   \n",
       "857      Linear_exact_ISIC_2017_test   \n",
       "\n",
       "                                         alternateName  description  \\\n",
       "0    The skin cancer data. Contains 9 classes of sk...          NaN   \n",
       "1             All images and metadata in ISIC archive.          NaN   \n",
       "2                                                  NaN          NaN   \n",
       "3                            ISIC 2019 resized dataset          NaN   \n",
       "4                                                  NaN          NaN   \n",
       "..                                                 ...          ...   \n",
       "853                                                NaN          NaN   \n",
       "854                                                NaN          NaN   \n",
       "855                                                NaN          NaN   \n",
       "856                                                NaN          NaN   \n",
       "857                                                NaN          NaN   \n",
       "\n",
       "                                                   url  identifier  \\\n",
       "0    https://www.kaggle.com/nodoubttome/skin-cancer...      319080   \n",
       "1    https://www.kaggle.com/tomooinubushi/all-isic-...     5302785   \n",
       "2    https://www.kaggle.com/nischaydnk/isic-2020-jp...     5295545   \n",
       "3    https://www.kaggle.com/nischaydnk/isic-2019-jp...     5295517   \n",
       "4    https://www.kaggle.com/cdeotte/jpeg-isic2019-5...      762203   \n",
       "..                                                 ...         ...   \n",
       "853  https://www.kaggle.com/manirujjamanmonir/4000i...     3374258   \n",
       "854     https://www.kaggle.com/chitrapsg/melanoma-isic     3501446   \n",
       "855  https://www.kaggle.com/rajibbag1/siim-isic-202...     4911856   \n",
       "856     https://www.kaggle.com/bugakakak/data-isic1718     4788617   \n",
       "857  https://www.kaggle.com/sujansarkar/linear-exac...     3804149   \n",
       "\n",
       "    creator.@type        creator.name  ... distribution_0.@type  \\\n",
       "0          Person    Andrey Katanskiy  ...         DataDownload   \n",
       "1          Person      tomoo inubushi  ...         DataDownload   \n",
       "2          Person    Nischay Dhankhar  ...         DataDownload   \n",
       "3          Person    Nischay Dhankhar  ...         DataDownload   \n",
       "4          Person        Chris Deotte  ...         DataDownload   \n",
       "..            ...                 ...  ...                  ...   \n",
       "853        Person  Manirujjaman Monir  ...         DataDownload   \n",
       "854        Person  Chitra Govindasamy  ...         DataDownload   \n",
       "855        Person         RAJIB BAG_1  ...         DataDownload   \n",
       "856        Person           bugakakak  ...         DataDownload   \n",
       "857        Person        Sujan Sarkar  ...         DataDownload   \n",
       "\n",
       "                                            contentUrl contentSize  \\\n",
       "0    https://www.kaggle.com/datasets/nodoubttome/sk...      2048.0   \n",
       "1    https://www.kaggle.com/datasets/tomooinubushi/...     75776.0   \n",
       "2    https://www.kaggle.com/datasets/nischaydnk/isi...       595.0   \n",
       "3    https://www.kaggle.com/datasets/nischaydnk/isi...       355.0   \n",
       "4    https://www.kaggle.com/datasets/cdeotte/jpeg-i...      1024.0   \n",
       "..                                                 ...         ...   \n",
       "853  https://www.kaggle.com/datasets/manirujjamanmo...      6144.0   \n",
       "854  https://www.kaggle.com/datasets/chitrapsg/mela...       786.0   \n",
       "855  https://www.kaggle.com/datasets/rajibbag1/siim...      2048.0   \n",
       "856  https://www.kaggle.com/datasets/bugakakak/data...       261.0   \n",
       "857  https://www.kaggle.com/datasets/sujansarkar/li...        54.0   \n",
       "\n",
       "      encodingFormat isPrivate  downloadCount viewCount voteCount  \\\n",
       "0    application/zip     False          16071    130705       217   \n",
       "1    application/zip     False            365      3412        55   \n",
       "2    application/zip     False            677      2005        48   \n",
       "3    application/zip     False            553      1872        39   \n",
       "4    application/zip     False           2424      7074        54   \n",
       "..               ...       ...            ...       ...       ...   \n",
       "853  application/zip     False              2        73         0   \n",
       "854  application/zip     False              3        75         0   \n",
       "855  application/zip     False              0        18         0   \n",
       "856  application/zip     False              0        16         0   \n",
       "857  application/zip     False              1        39         0   \n",
       "\n",
       "    usabilityRating                          conformsTo  \n",
       "0          0.750000  http://mlcommons.org/croissant/1.0  \n",
       "1          0.764706  http://mlcommons.org/croissant/1.0  \n",
       "2          0.882353  http://mlcommons.org/croissant/1.0  \n",
       "3          0.941176  http://mlcommons.org/croissant/1.0  \n",
       "4          0.588235  http://mlcommons.org/croissant/1.0  \n",
       "..              ...                                 ...  \n",
       "853        0.000000  http://mlcommons.org/croissant/1.0  \n",
       "854        0.000000  http://mlcommons.org/croissant/1.0  \n",
       "855        0.000000  http://mlcommons.org/croissant/1.0  \n",
       "856        0.000000  http://mlcommons.org/croissant/1.0  \n",
       "857        0.000000  http://mlcommons.org/croissant/1.0  \n",
       "\n",
       "[858 rows x 26 columns]"
      ]
     },
     "execution_count": 62,
     "metadata": {},
     "output_type": "execute_result"
    }
   ],
   "source": [
    "df_kaggle_isic_metadata"
   ]
  },
  {
   "cell_type": "code",
   "execution_count": 63,
   "metadata": {},
   "outputs": [
    {
     "data": {
      "text/html": [
       "<div>\n",
       "<style scoped>\n",
       "    .dataframe tbody tr th:only-of-type {\n",
       "        vertical-align: middle;\n",
       "    }\n",
       "\n",
       "    .dataframe tbody tr th {\n",
       "        vertical-align: top;\n",
       "    }\n",
       "\n",
       "    .dataframe thead th {\n",
       "        text-align: right;\n",
       "    }\n",
       "</style>\n",
       "<table border=\"1\" class=\"dataframe\">\n",
       "  <thead>\n",
       "    <tr style=\"text-align: right;\">\n",
       "      <th></th>\n",
       "      <th>name</th>\n",
       "      <th>url</th>\n",
       "      <th>contentSize</th>\n",
       "    </tr>\n",
       "  </thead>\n",
       "  <tbody>\n",
       "    <tr>\n",
       "      <th>0</th>\n",
       "      <td>ISIC 2016 Challenge</td>\n",
       "      <td>https://challenge.isic-archive.com/data/#2016</td>\n",
       "      <td>4219.0</td>\n",
       "    </tr>\n",
       "    <tr>\n",
       "      <th>1</th>\n",
       "      <td>ISIC 2017 Challenge</td>\n",
       "      <td>https://challenge.isic-archive.com/data/#2017</td>\n",
       "      <td>12708.0</td>\n",
       "    </tr>\n",
       "    <tr>\n",
       "      <th>2</th>\n",
       "      <td>ISIC 2018 Challenge</td>\n",
       "      <td>https://challenge.isic-archive.com/data/#2018</td>\n",
       "      <td>15880.0</td>\n",
       "    </tr>\n",
       "    <tr>\n",
       "      <th>3</th>\n",
       "      <td>ISIC 2019 Challenge</td>\n",
       "      <td>https://challenge.isic-archive.com/data/#2019</td>\n",
       "      <td>12700.0</td>\n",
       "    </tr>\n",
       "    <tr>\n",
       "      <th>4</th>\n",
       "      <td>ISIC 2020 Challenge</td>\n",
       "      <td>https://challenge.isic-archive.com/data/#2020</td>\n",
       "      <td>29700.0</td>\n",
       "    </tr>\n",
       "  </tbody>\n",
       "</table>\n",
       "</div>"
      ],
      "text/plain": [
       "                  name                                            url  \\\n",
       "0  ISIC 2016 Challenge  https://challenge.isic-archive.com/data/#2016   \n",
       "1  ISIC 2017 Challenge  https://challenge.isic-archive.com/data/#2017   \n",
       "2  ISIC 2018 Challenge  https://challenge.isic-archive.com/data/#2018   \n",
       "3  ISIC 2019 Challenge  https://challenge.isic-archive.com/data/#2019   \n",
       "4  ISIC 2020 Challenge  https://challenge.isic-archive.com/data/#2020   \n",
       "\n",
       "   contentSize  \n",
       "0       4219.0  \n",
       "1      12708.0  \n",
       "2      15880.0  \n",
       "3      12700.0  \n",
       "4      29700.0  "
      ]
     },
     "execution_count": 63,
     "metadata": {},
     "output_type": "execute_result"
    }
   ],
   "source": [
    "df_original_isic_metadata"
   ]
  },
  {
   "cell_type": "code",
   "execution_count": 64,
   "metadata": {},
   "outputs": [],
   "source": [
    "df_kaggle_isic_metadata = df_kaggle_isic_metadata.drop(df_kaggle_isic_metadata[df_kaggle_isic_metadata.contentSize == \"Unknown\"].index)\n",
    "df_kaggle_isic_metadata['contentSize'] = df_kaggle_isic_metadata['contentSize'].astype(float)"
   ]
  },
  {
   "cell_type": "code",
   "execution_count": 65,
   "metadata": {},
   "outputs": [],
   "source": [
    "# extrating the year from the name of the dataset so it can be used to compare the datasets\n",
    "\n",
    "def extract_year(name):\n",
    "    match = re.search(r'\\b(20\\d{2})\\b', name)\n",
    "    return int(match.group(0)) if match else None\n",
    "\n",
    "df_original_isic_metadata['Year'] = df_original_isic_metadata['name'].apply(extract_year)\n",
    "df_kaggle_isic_metadata['Year'] = df_kaggle_isic_metadata['name'].apply(extract_year)"
   ]
  },
  {
   "cell_type": "code",
   "execution_count": 66,
   "metadata": {},
   "outputs": [],
   "source": [
    "def find_potential_duplicates(original_df, kaggle_df, threshold=30):\n",
    "    \n",
    "    duplicates = []\n",
    "\n",
    "    for index, kaggle_row in kaggle_df.iterrows():\n",
    "        kaggle_content_size = kaggle_row['contentSize']\n",
    "        kaggle_name = kaggle_row['name']\n",
    "        kaggle_url = kaggle_row['url']\n",
    "        kaggle_year = kaggle_row['Year']\n",
    "\n",
    "        for _, original_row in original_df.iterrows():\n",
    "            original_size = original_row['contentSize']\n",
    "            original_name = original_row['name']\n",
    "            orginal_url = original_row['url']\n",
    "            original_year = original_row['Year']\n",
    "\n",
    "            # percentage difference in contentSize\n",
    "            percentage_difference = round(abs(kaggle_content_size - original_size) / original_size * 100, 2)\n",
    "\n",
    "            # checking if the difference is within the threshold and years match\n",
    "            if percentage_difference <= threshold and kaggle_year == original_year:\n",
    "                duplicates.append({\n",
    "                    'Kaggle Dataset Name': kaggle_name,\n",
    "                    \"Kaggle Dataset URL\": kaggle_url,\n",
    "                    'Kaggle Size (MB)': kaggle_content_size,\n",
    "                    'Original Dataset Name': original_name,\n",
    "                    'Orginal Dataset URL': orginal_url,\n",
    "                    'Original Size (MB)': original_size,\n",
    "                    'Size Difference (%)': percentage_difference,\n",
    "                })\n",
    "\n",
    "    return pd.DataFrame(duplicates)"
   ]
  },
  {
   "cell_type": "code",
   "execution_count": 67,
   "metadata": {},
   "outputs": [],
   "source": [
    "potential_duplicates_df = find_potential_duplicates(df_original_isic_metadata, df_kaggle_isic_metadata)\n",
    "potential_duplicates_df.to_csv('../data/02_potential_isic_duplicates_based_on_contentSize_and_name.csv', index=False)"
   ]
  },
  {
   "cell_type": "code",
   "execution_count": 68,
   "metadata": {},
   "outputs": [
    {
     "data": {
      "text/html": [
       "<div>\n",
       "<style scoped>\n",
       "    .dataframe tbody tr th:only-of-type {\n",
       "        vertical-align: middle;\n",
       "    }\n",
       "\n",
       "    .dataframe tbody tr th {\n",
       "        vertical-align: top;\n",
       "    }\n",
       "\n",
       "    .dataframe thead th {\n",
       "        text-align: right;\n",
       "    }\n",
       "</style>\n",
       "<table border=\"1\" class=\"dataframe\">\n",
       "  <thead>\n",
       "    <tr style=\"text-align: right;\">\n",
       "      <th></th>\n",
       "      <th>Kaggle Dataset Name</th>\n",
       "      <th>Kaggle Dataset URL</th>\n",
       "      <th>Kaggle Size (MB)</th>\n",
       "      <th>Original Dataset Name</th>\n",
       "      <th>Orginal Dataset URL</th>\n",
       "      <th>Original Size (MB)</th>\n",
       "      <th>Size Difference (%)</th>\n",
       "    </tr>\n",
       "  </thead>\n",
       "  <tbody>\n",
       "    <tr>\n",
       "      <th>0</th>\n",
       "      <td>ISIC 2019 Skin Lesion images for classification</td>\n",
       "      <td>https://www.kaggle.com/salviohexia/isic-2019-s...</td>\n",
       "      <td>9216.0</td>\n",
       "      <td>ISIC 2019 Challenge</td>\n",
       "      <td>https://challenge.isic-archive.com/data/#2019</td>\n",
       "      <td>12700.0</td>\n",
       "      <td>27.43</td>\n",
       "    </tr>\n",
       "    <tr>\n",
       "      <th>1</th>\n",
       "      <td>ISIC-2017</td>\n",
       "      <td>https://www.kaggle.com/johnchfr/isic-2017</td>\n",
       "      <td>12288.0</td>\n",
       "      <td>ISIC 2017 Challenge</td>\n",
       "      <td>https://challenge.isic-archive.com/data/#2017</td>\n",
       "      <td>12708.0</td>\n",
       "      <td>3.31</td>\n",
       "    </tr>\n",
       "    <tr>\n",
       "      <th>2</th>\n",
       "      <td>ISIC 2019</td>\n",
       "      <td>https://www.kaggle.com/graf10a/isic-2019</td>\n",
       "      <td>9216.0</td>\n",
       "      <td>ISIC 2019 Challenge</td>\n",
       "      <td>https://challenge.isic-archive.com/data/#2019</td>\n",
       "      <td>12700.0</td>\n",
       "      <td>27.43</td>\n",
       "    </tr>\n",
       "    <tr>\n",
       "      <th>3</th>\n",
       "      <td>ISIC 2019 7 classes</td>\n",
       "      <td>https://www.kaggle.com/gabrielmv/isic-2019-7-c...</td>\n",
       "      <td>9216.0</td>\n",
       "      <td>ISIC 2019 Challenge</td>\n",
       "      <td>https://challenge.isic-archive.com/data/#2019</td>\n",
       "      <td>12700.0</td>\n",
       "      <td>27.43</td>\n",
       "    </tr>\n",
       "    <tr>\n",
       "      <th>4</th>\n",
       "      <td>SIIM-ISIC-2020</td>\n",
       "      <td>https://www.kaggle.com/prashantjeswani/siimisi...</td>\n",
       "      <td>23552.0</td>\n",
       "      <td>ISIC 2020 Challenge</td>\n",
       "      <td>https://challenge.isic-archive.com/data/#2020</td>\n",
       "      <td>29700.0</td>\n",
       "      <td>20.70</td>\n",
       "    </tr>\n",
       "    <tr>\n",
       "      <th>5</th>\n",
       "      <td>ISIC 2017/2018</td>\n",
       "      <td>https://www.kaggle.com/rychardguedes/isic-2017...</td>\n",
       "      <td>14336.0</td>\n",
       "      <td>ISIC 2017 Challenge</td>\n",
       "      <td>https://challenge.isic-archive.com/data/#2017</td>\n",
       "      <td>12708.0</td>\n",
       "      <td>12.81</td>\n",
       "    </tr>\n",
       "    <tr>\n",
       "      <th>6</th>\n",
       "      <td>ISIC-2018</td>\n",
       "      <td>https://www.kaggle.com/trantoanthang/isic-2018</td>\n",
       "      <td>13312.0</td>\n",
       "      <td>ISIC 2018 Challenge</td>\n",
       "      <td>https://challenge.isic-archive.com/data/#2018</td>\n",
       "      <td>15880.0</td>\n",
       "      <td>16.17</td>\n",
       "    </tr>\n",
       "    <tr>\n",
       "      <th>7</th>\n",
       "      <td>SIIM-ISIC-2019</td>\n",
       "      <td>https://www.kaggle.com/prashantjeswani/siim-is...</td>\n",
       "      <td>9216.0</td>\n",
       "      <td>ISIC 2019 Challenge</td>\n",
       "      <td>https://challenge.isic-archive.com/data/#2019</td>\n",
       "      <td>12700.0</td>\n",
       "      <td>27.43</td>\n",
       "    </tr>\n",
       "    <tr>\n",
       "      <th>8</th>\n",
       "      <td>ISIC-2019 skin disease dataset (test ,train, val)</td>\n",
       "      <td>https://www.kaggle.com/mdefajalam/isic-2019-sk...</td>\n",
       "      <td>9216.0</td>\n",
       "      <td>ISIC 2019 Challenge</td>\n",
       "      <td>https://challenge.isic-archive.com/data/#2019</td>\n",
       "      <td>12700.0</td>\n",
       "      <td>27.43</td>\n",
       "    </tr>\n",
       "    <tr>\n",
       "      <th>9</th>\n",
       "      <td>ISIC 2017 Original Dataset</td>\n",
       "      <td>https://www.kaggle.com/mahmudulhasantasin/isic...</td>\n",
       "      <td>12288.0</td>\n",
       "      <td>ISIC 2017 Challenge</td>\n",
       "      <td>https://challenge.isic-archive.com/data/#2017</td>\n",
       "      <td>12708.0</td>\n",
       "      <td>3.31</td>\n",
       "    </tr>\n",
       "    <tr>\n",
       "      <th>10</th>\n",
       "      <td>SIIM-ISIC 2020 Melanoma Dataset (10 Folds Split)</td>\n",
       "      <td>https://www.kaggle.com/scipygaurav/siimisic-20...</td>\n",
       "      <td>23552.0</td>\n",
       "      <td>ISIC 2020 Challenge</td>\n",
       "      <td>https://challenge.isic-archive.com/data/#2020</td>\n",
       "      <td>29700.0</td>\n",
       "      <td>20.70</td>\n",
       "    </tr>\n",
       "    <tr>\n",
       "      <th>11</th>\n",
       "      <td>ISIC Challenge Dataset-2020</td>\n",
       "      <td>https://www.kaggle.com/sumaiyabinteshahid/isic...</td>\n",
       "      <td>30720.0</td>\n",
       "      <td>ISIC 2020 Challenge</td>\n",
       "      <td>https://challenge.isic-archive.com/data/#2020</td>\n",
       "      <td>29700.0</td>\n",
       "      <td>3.43</td>\n",
       "    </tr>\n",
       "    <tr>\n",
       "      <th>12</th>\n",
       "      <td>ISIC 2019</td>\n",
       "      <td>https://www.kaggle.com/rid1dle/isic-2019</td>\n",
       "      <td>9216.0</td>\n",
       "      <td>ISIC 2019 Challenge</td>\n",
       "      <td>https://challenge.isic-archive.com/data/#2019</td>\n",
       "      <td>12700.0</td>\n",
       "      <td>27.43</td>\n",
       "    </tr>\n",
       "    <tr>\n",
       "      <th>13</th>\n",
       "      <td>ISIC 2020</td>\n",
       "      <td>https://www.kaggle.com/abdulrehmanraja/isic-2020</td>\n",
       "      <td>23552.0</td>\n",
       "      <td>ISIC 2020 Challenge</td>\n",
       "      <td>https://challenge.isic-archive.com/data/#2020</td>\n",
       "      <td>29700.0</td>\n",
       "      <td>20.70</td>\n",
       "    </tr>\n",
       "    <tr>\n",
       "      <th>14</th>\n",
       "      <td>ISIC 2019 - train - valid - tst</td>\n",
       "      <td>https://www.kaggle.com/eduardomorais/isic-2019...</td>\n",
       "      <td>9216.0</td>\n",
       "      <td>ISIC 2019 Challenge</td>\n",
       "      <td>https://challenge.isic-archive.com/data/#2019</td>\n",
       "      <td>12700.0</td>\n",
       "      <td>27.43</td>\n",
       "    </tr>\n",
       "    <tr>\n",
       "      <th>15</th>\n",
       "      <td>ISIC 2017 Task 3 Dataset</td>\n",
       "      <td>https://www.kaggle.com/srijankundu/isic-2017-t...</td>\n",
       "      <td>12288.0</td>\n",
       "      <td>ISIC 2017 Challenge</td>\n",
       "      <td>https://challenge.isic-archive.com/data/#2017</td>\n",
       "      <td>12708.0</td>\n",
       "      <td>3.31</td>\n",
       "    </tr>\n",
       "    <tr>\n",
       "      <th>16</th>\n",
       "      <td>ISIC 2019 JPEG</td>\n",
       "      <td>https://www.kaggle.com/rickmondal/isic-2019-jpeg</td>\n",
       "      <td>9216.0</td>\n",
       "      <td>ISIC 2019 Challenge</td>\n",
       "      <td>https://challenge.isic-archive.com/data/#2019</td>\n",
       "      <td>12700.0</td>\n",
       "      <td>27.43</td>\n",
       "    </tr>\n",
       "    <tr>\n",
       "      <th>17</th>\n",
       "      <td>skincancer-ISIC-2019</td>\n",
       "      <td>https://www.kaggle.com/viveknarayanuppala/skin...</td>\n",
       "      <td>9216.0</td>\n",
       "      <td>ISIC 2019 Challenge</td>\n",
       "      <td>https://challenge.isic-archive.com/data/#2019</td>\n",
       "      <td>12700.0</td>\n",
       "      <td>27.43</td>\n",
       "    </tr>\n",
       "    <tr>\n",
       "      <th>18</th>\n",
       "      <td>ISIC skin lesion dataset 2016</td>\n",
       "      <td>https://www.kaggle.com/sahiliitj/isic-skin-les...</td>\n",
       "      <td>3072.0</td>\n",
       "      <td>ISIC 2016 Challenge</td>\n",
       "      <td>https://challenge.isic-archive.com/data/#2016</td>\n",
       "      <td>4219.0</td>\n",
       "      <td>27.19</td>\n",
       "    </tr>\n",
       "    <tr>\n",
       "      <th>19</th>\n",
       "      <td>isic 2019 and 2020 Melanoma dataset hair addition</td>\n",
       "      <td>https://www.kaggle.com/qikangdeng/isic-2019-an...</td>\n",
       "      <td>9216.0</td>\n",
       "      <td>ISIC 2019 Challenge</td>\n",
       "      <td>https://challenge.isic-archive.com/data/#2019</td>\n",
       "      <td>12700.0</td>\n",
       "      <td>27.43</td>\n",
       "    </tr>\n",
       "    <tr>\n",
       "      <th>20</th>\n",
       "      <td>ISIC 2020</td>\n",
       "      <td>https://www.kaggle.com/shakiburrahmanasif/isic...</td>\n",
       "      <td>32768.0</td>\n",
       "      <td>ISIC 2020 Challenge</td>\n",
       "      <td>https://challenge.isic-archive.com/data/#2020</td>\n",
       "      <td>29700.0</td>\n",
       "      <td>10.33</td>\n",
       "    </tr>\n",
       "    <tr>\n",
       "      <th>21</th>\n",
       "      <td>ISIC - 2019</td>\n",
       "      <td>https://www.kaggle.com/karoladel/isic-2019</td>\n",
       "      <td>9216.0</td>\n",
       "      <td>ISIC 2019 Challenge</td>\n",
       "      <td>https://challenge.isic-archive.com/data/#2019</td>\n",
       "      <td>12700.0</td>\n",
       "      <td>27.43</td>\n",
       "    </tr>\n",
       "    <tr>\n",
       "      <th>22</th>\n",
       "      <td>ISIC 2018 Task 2: Lesion Attribute Detection</td>\n",
       "      <td>https://www.kaggle.com/thanhngnguyn/isic-2018-...</td>\n",
       "      <td>13312.0</td>\n",
       "      <td>ISIC 2018 Challenge</td>\n",
       "      <td>https://challenge.isic-archive.com/data/#2018</td>\n",
       "      <td>15880.0</td>\n",
       "      <td>16.17</td>\n",
       "    </tr>\n",
       "    <tr>\n",
       "      <th>23</th>\n",
       "      <td>ISIC-2019 skin disease labelled dataset ( 8 cls)</td>\n",
       "      <td>https://www.kaggle.com/mdefajalam/isic-2019-sk...</td>\n",
       "      <td>9216.0</td>\n",
       "      <td>ISIC 2019 Challenge</td>\n",
       "      <td>https://challenge.isic-archive.com/data/#2019</td>\n",
       "      <td>12700.0</td>\n",
       "      <td>27.43</td>\n",
       "    </tr>\n",
       "    <tr>\n",
       "      <th>24</th>\n",
       "      <td>isic 2020 new</td>\n",
       "      <td>https://www.kaggle.com/shakibrahman15/isic-202...</td>\n",
       "      <td>23552.0</td>\n",
       "      <td>ISIC 2020 Challenge</td>\n",
       "      <td>https://challenge.isic-archive.com/data/#2020</td>\n",
       "      <td>29700.0</td>\n",
       "      <td>20.70</td>\n",
       "    </tr>\n",
       "    <tr>\n",
       "      <th>25</th>\n",
       "      <td>ISIC-2018-CLEAN</td>\n",
       "      <td>https://www.kaggle.com/quanghungdang/isic-2018</td>\n",
       "      <td>11264.0</td>\n",
       "      <td>ISIC 2018 Challenge</td>\n",
       "      <td>https://challenge.isic-archive.com/data/#2018</td>\n",
       "      <td>15880.0</td>\n",
       "      <td>29.07</td>\n",
       "    </tr>\n",
       "    <tr>\n",
       "      <th>26</th>\n",
       "      <td>ISIC 2016 ORIGINAL DATASET 5 FOLDED WITH LABEL</td>\n",
       "      <td>https://www.kaggle.com/mahmudulhasantasin/isic...</td>\n",
       "      <td>3072.0</td>\n",
       "      <td>ISIC 2016 Challenge</td>\n",
       "      <td>https://challenge.isic-archive.com/data/#2016</td>\n",
       "      <td>4219.0</td>\n",
       "      <td>27.19</td>\n",
       "    </tr>\n",
       "  </tbody>\n",
       "</table>\n",
       "</div>"
      ],
      "text/plain": [
       "                                  Kaggle Dataset Name  \\\n",
       "0     ISIC 2019 Skin Lesion images for classification   \n",
       "1                                           ISIC-2017   \n",
       "2                                          ISIC 2019    \n",
       "3                                 ISIC 2019 7 classes   \n",
       "4                                      SIIM-ISIC-2020   \n",
       "5                                      ISIC 2017/2018   \n",
       "6                                           ISIC-2018   \n",
       "7                                      SIIM-ISIC-2019   \n",
       "8   ISIC-2019 skin disease dataset (test ,train, val)   \n",
       "9                          ISIC 2017 Original Dataset   \n",
       "10   SIIM-ISIC 2020 Melanoma Dataset (10 Folds Split)   \n",
       "11                        ISIC Challenge Dataset-2020   \n",
       "12                                          ISIC 2019   \n",
       "13                                          ISIC 2020   \n",
       "14                    ISIC 2019 - train - valid - tst   \n",
       "15                           ISIC 2017 Task 3 Dataset   \n",
       "16                                     ISIC 2019 JPEG   \n",
       "17                               skincancer-ISIC-2019   \n",
       "18                      ISIC skin lesion dataset 2016   \n",
       "19  isic 2019 and 2020 Melanoma dataset hair addition   \n",
       "20                                          ISIC 2020   \n",
       "21                                        ISIC - 2019   \n",
       "22       ISIC 2018 Task 2: Lesion Attribute Detection   \n",
       "23   ISIC-2019 skin disease labelled dataset ( 8 cls)   \n",
       "24                                      isic 2020 new   \n",
       "25                                    ISIC-2018-CLEAN   \n",
       "26     ISIC 2016 ORIGINAL DATASET 5 FOLDED WITH LABEL   \n",
       "\n",
       "                                   Kaggle Dataset URL  Kaggle Size (MB)  \\\n",
       "0   https://www.kaggle.com/salviohexia/isic-2019-s...            9216.0   \n",
       "1           https://www.kaggle.com/johnchfr/isic-2017           12288.0   \n",
       "2            https://www.kaggle.com/graf10a/isic-2019            9216.0   \n",
       "3   https://www.kaggle.com/gabrielmv/isic-2019-7-c...            9216.0   \n",
       "4   https://www.kaggle.com/prashantjeswani/siimisi...           23552.0   \n",
       "5   https://www.kaggle.com/rychardguedes/isic-2017...           14336.0   \n",
       "6      https://www.kaggle.com/trantoanthang/isic-2018           13312.0   \n",
       "7   https://www.kaggle.com/prashantjeswani/siim-is...            9216.0   \n",
       "8   https://www.kaggle.com/mdefajalam/isic-2019-sk...            9216.0   \n",
       "9   https://www.kaggle.com/mahmudulhasantasin/isic...           12288.0   \n",
       "10  https://www.kaggle.com/scipygaurav/siimisic-20...           23552.0   \n",
       "11  https://www.kaggle.com/sumaiyabinteshahid/isic...           30720.0   \n",
       "12           https://www.kaggle.com/rid1dle/isic-2019            9216.0   \n",
       "13   https://www.kaggle.com/abdulrehmanraja/isic-2020           23552.0   \n",
       "14  https://www.kaggle.com/eduardomorais/isic-2019...            9216.0   \n",
       "15  https://www.kaggle.com/srijankundu/isic-2017-t...           12288.0   \n",
       "16   https://www.kaggle.com/rickmondal/isic-2019-jpeg            9216.0   \n",
       "17  https://www.kaggle.com/viveknarayanuppala/skin...            9216.0   \n",
       "18  https://www.kaggle.com/sahiliitj/isic-skin-les...            3072.0   \n",
       "19  https://www.kaggle.com/qikangdeng/isic-2019-an...            9216.0   \n",
       "20  https://www.kaggle.com/shakiburrahmanasif/isic...           32768.0   \n",
       "21         https://www.kaggle.com/karoladel/isic-2019            9216.0   \n",
       "22  https://www.kaggle.com/thanhngnguyn/isic-2018-...           13312.0   \n",
       "23  https://www.kaggle.com/mdefajalam/isic-2019-sk...            9216.0   \n",
       "24  https://www.kaggle.com/shakibrahman15/isic-202...           23552.0   \n",
       "25     https://www.kaggle.com/quanghungdang/isic-2018           11264.0   \n",
       "26  https://www.kaggle.com/mahmudulhasantasin/isic...            3072.0   \n",
       "\n",
       "   Original Dataset Name                            Orginal Dataset URL  \\\n",
       "0    ISIC 2019 Challenge  https://challenge.isic-archive.com/data/#2019   \n",
       "1    ISIC 2017 Challenge  https://challenge.isic-archive.com/data/#2017   \n",
       "2    ISIC 2019 Challenge  https://challenge.isic-archive.com/data/#2019   \n",
       "3    ISIC 2019 Challenge  https://challenge.isic-archive.com/data/#2019   \n",
       "4    ISIC 2020 Challenge  https://challenge.isic-archive.com/data/#2020   \n",
       "5    ISIC 2017 Challenge  https://challenge.isic-archive.com/data/#2017   \n",
       "6    ISIC 2018 Challenge  https://challenge.isic-archive.com/data/#2018   \n",
       "7    ISIC 2019 Challenge  https://challenge.isic-archive.com/data/#2019   \n",
       "8    ISIC 2019 Challenge  https://challenge.isic-archive.com/data/#2019   \n",
       "9    ISIC 2017 Challenge  https://challenge.isic-archive.com/data/#2017   \n",
       "10   ISIC 2020 Challenge  https://challenge.isic-archive.com/data/#2020   \n",
       "11   ISIC 2020 Challenge  https://challenge.isic-archive.com/data/#2020   \n",
       "12   ISIC 2019 Challenge  https://challenge.isic-archive.com/data/#2019   \n",
       "13   ISIC 2020 Challenge  https://challenge.isic-archive.com/data/#2020   \n",
       "14   ISIC 2019 Challenge  https://challenge.isic-archive.com/data/#2019   \n",
       "15   ISIC 2017 Challenge  https://challenge.isic-archive.com/data/#2017   \n",
       "16   ISIC 2019 Challenge  https://challenge.isic-archive.com/data/#2019   \n",
       "17   ISIC 2019 Challenge  https://challenge.isic-archive.com/data/#2019   \n",
       "18   ISIC 2016 Challenge  https://challenge.isic-archive.com/data/#2016   \n",
       "19   ISIC 2019 Challenge  https://challenge.isic-archive.com/data/#2019   \n",
       "20   ISIC 2020 Challenge  https://challenge.isic-archive.com/data/#2020   \n",
       "21   ISIC 2019 Challenge  https://challenge.isic-archive.com/data/#2019   \n",
       "22   ISIC 2018 Challenge  https://challenge.isic-archive.com/data/#2018   \n",
       "23   ISIC 2019 Challenge  https://challenge.isic-archive.com/data/#2019   \n",
       "24   ISIC 2020 Challenge  https://challenge.isic-archive.com/data/#2020   \n",
       "25   ISIC 2018 Challenge  https://challenge.isic-archive.com/data/#2018   \n",
       "26   ISIC 2016 Challenge  https://challenge.isic-archive.com/data/#2016   \n",
       "\n",
       "    Original Size (MB)  Size Difference (%)  \n",
       "0              12700.0                27.43  \n",
       "1              12708.0                 3.31  \n",
       "2              12700.0                27.43  \n",
       "3              12700.0                27.43  \n",
       "4              29700.0                20.70  \n",
       "5              12708.0                12.81  \n",
       "6              15880.0                16.17  \n",
       "7              12700.0                27.43  \n",
       "8              12700.0                27.43  \n",
       "9              12708.0                 3.31  \n",
       "10             29700.0                20.70  \n",
       "11             29700.0                 3.43  \n",
       "12             12700.0                27.43  \n",
       "13             29700.0                20.70  \n",
       "14             12700.0                27.43  \n",
       "15             12708.0                 3.31  \n",
       "16             12700.0                27.43  \n",
       "17             12700.0                27.43  \n",
       "18              4219.0                27.19  \n",
       "19             12700.0                27.43  \n",
       "20             29700.0                10.33  \n",
       "21             12700.0                27.43  \n",
       "22             15880.0                16.17  \n",
       "23             12700.0                27.43  \n",
       "24             29700.0                20.70  \n",
       "25             15880.0                29.07  \n",
       "26              4219.0                27.19  "
      ]
     },
     "execution_count": 68,
     "metadata": {},
     "output_type": "execute_result"
    }
   ],
   "source": [
    "potential_duplicates_df"
   ]
  },
  {
   "cell_type": "code",
   "execution_count": 69,
   "metadata": {},
   "outputs": [
    {
     "data": {
      "text/html": [
       "<div>\n",
       "<style scoped>\n",
       "    .dataframe tbody tr th:only-of-type {\n",
       "        vertical-align: middle;\n",
       "    }\n",
       "\n",
       "    .dataframe tbody tr th {\n",
       "        vertical-align: top;\n",
       "    }\n",
       "\n",
       "    .dataframe thead th {\n",
       "        text-align: right;\n",
       "    }\n",
       "</style>\n",
       "<table border=\"1\" class=\"dataframe\">\n",
       "  <thead>\n",
       "    <tr style=\"text-align: right;\">\n",
       "      <th></th>\n",
       "      <th>Kaggle Dataset Name</th>\n",
       "      <th>Kaggle Dataset URL</th>\n",
       "      <th>Kaggle Size (MB)</th>\n",
       "      <th>Original Dataset Name</th>\n",
       "      <th>Orginal Dataset URL</th>\n",
       "      <th>Original Size (MB)</th>\n",
       "      <th>Size Difference (%)</th>\n",
       "    </tr>\n",
       "  </thead>\n",
       "  <tbody>\n",
       "    <tr>\n",
       "      <th>0</th>\n",
       "      <td>ISIC 2020 JPG 256x256 RESIZED</td>\n",
       "      <td>https://www.kaggle.com/nischaydnk/isic-2020-jp...</td>\n",
       "      <td>595.0</td>\n",
       "      <td>ISIC 2020 Challenge</td>\n",
       "      <td>https://challenge.isic-archive.com/data/#2020</td>\n",
       "      <td>29700.0</td>\n",
       "      <td>98.00</td>\n",
       "    </tr>\n",
       "    <tr>\n",
       "      <th>1</th>\n",
       "      <td>ISIC 2019 JPG 224x224 RESIZED</td>\n",
       "      <td>https://www.kaggle.com/nischaydnk/isic-2019-jp...</td>\n",
       "      <td>355.0</td>\n",
       "      <td>ISIC 2019 Challenge</td>\n",
       "      <td>https://challenge.isic-archive.com/data/#2019</td>\n",
       "      <td>12700.0</td>\n",
       "      <td>97.20</td>\n",
       "    </tr>\n",
       "    <tr>\n",
       "      <th>2</th>\n",
       "      <td>JPEG ISIC 2019 512x512</td>\n",
       "      <td>https://www.kaggle.com/cdeotte/jpeg-isic2019-5...</td>\n",
       "      <td>1024.0</td>\n",
       "      <td>ISIC 2019 Challenge</td>\n",
       "      <td>https://challenge.isic-archive.com/data/#2019</td>\n",
       "      <td>12700.0</td>\n",
       "      <td>91.94</td>\n",
       "    </tr>\n",
       "    <tr>\n",
       "      <th>3</th>\n",
       "      <td>ISIC 2019 TFRecords 512x512</td>\n",
       "      <td>https://www.kaggle.com/cdeotte/isic2019-512x512</td>\n",
       "      <td>1024.0</td>\n",
       "      <td>ISIC 2019 Challenge</td>\n",
       "      <td>https://challenge.isic-archive.com/data/#2019</td>\n",
       "      <td>12700.0</td>\n",
       "      <td>91.94</td>\n",
       "    </tr>\n",
       "    <tr>\n",
       "      <th>4</th>\n",
       "      <td>ISIC 2019 JPG 256x256 RESIZED</td>\n",
       "      <td>https://www.kaggle.com/nischaydnk/isic-2019-jp...</td>\n",
       "      <td>445.0</td>\n",
       "      <td>ISIC 2019 Challenge</td>\n",
       "      <td>https://challenge.isic-archive.com/data/#2019</td>\n",
       "      <td>12700.0</td>\n",
       "      <td>96.50</td>\n",
       "    </tr>\n",
       "    <tr>\n",
       "      <th>...</th>\n",
       "      <td>...</td>\n",
       "      <td>...</td>\n",
       "      <td>...</td>\n",
       "      <td>...</td>\n",
       "      <td>...</td>\n",
       "      <td>...</td>\n",
       "      <td>...</td>\n",
       "    </tr>\n",
       "    <tr>\n",
       "      <th>133</th>\n",
       "      <td>ISIC2019-2018-ITA-Based-Grouped</td>\n",
       "      <td>https://www.kaggle.com/sanazmovahed/isic2019-2...</td>\n",
       "      <td>9216.0</td>\n",
       "      <td>ISIC 2018 Challenge</td>\n",
       "      <td>https://challenge.isic-archive.com/data/#2018</td>\n",
       "      <td>15880.0</td>\n",
       "      <td>41.96</td>\n",
       "    </tr>\n",
       "    <tr>\n",
       "      <th>134</th>\n",
       "      <td>ham10000 skin cancer isic 2018 dataset</td>\n",
       "      <td>https://www.kaggle.com/dharjoy/ham10000-skin-c...</td>\n",
       "      <td>2048.0</td>\n",
       "      <td>ISIC 2018 Challenge</td>\n",
       "      <td>https://challenge.isic-archive.com/data/#2018</td>\n",
       "      <td>15880.0</td>\n",
       "      <td>87.10</td>\n",
       "    </tr>\n",
       "    <tr>\n",
       "      <th>135</th>\n",
       "      <td>SIIM-ISIC-Melanoma-Classification-2020-Resized...</td>\n",
       "      <td>https://www.kaggle.com/chirag94/siimisicmelano...</td>\n",
       "      <td>3072.0</td>\n",
       "      <td>ISIC 2020 Challenge</td>\n",
       "      <td>https://challenge.isic-archive.com/data/#2020</td>\n",
       "      <td>29700.0</td>\n",
       "      <td>89.66</td>\n",
       "    </tr>\n",
       "    <tr>\n",
       "      <th>136</th>\n",
       "      <td>ISIC 2016 ORIGINAL DATASET 5 FOLDED WITH LABEL</td>\n",
       "      <td>https://www.kaggle.com/mahmudulhasantasin/isic...</td>\n",
       "      <td>3072.0</td>\n",
       "      <td>ISIC 2016 Challenge</td>\n",
       "      <td>https://challenge.isic-archive.com/data/#2016</td>\n",
       "      <td>4219.0</td>\n",
       "      <td>27.19</td>\n",
       "    </tr>\n",
       "    <tr>\n",
       "      <th>137</th>\n",
       "      <td>ISIC 2019 Train 384x384 Inpainted Stratified t...</td>\n",
       "      <td>https://www.kaggle.com/kiranthomascherian/isic...</td>\n",
       "      <td>674.0</td>\n",
       "      <td>ISIC 2019 Challenge</td>\n",
       "      <td>https://challenge.isic-archive.com/data/#2019</td>\n",
       "      <td>12700.0</td>\n",
       "      <td>94.69</td>\n",
       "    </tr>\n",
       "  </tbody>\n",
       "</table>\n",
       "<p>138 rows × 7 columns</p>\n",
       "</div>"
      ],
      "text/plain": [
       "                                   Kaggle Dataset Name  \\\n",
       "0                        ISIC 2020 JPG 256x256 RESIZED   \n",
       "1                        ISIC 2019 JPG 224x224 RESIZED   \n",
       "2                               JPEG ISIC 2019 512x512   \n",
       "3                          ISIC 2019 TFRecords 512x512   \n",
       "4                        ISIC 2019 JPG 256x256 RESIZED   \n",
       "..                                                 ...   \n",
       "133                    ISIC2019-2018-ITA-Based-Grouped   \n",
       "134             ham10000 skin cancer isic 2018 dataset   \n",
       "135  SIIM-ISIC-Melanoma-Classification-2020-Resized...   \n",
       "136     ISIC 2016 ORIGINAL DATASET 5 FOLDED WITH LABEL   \n",
       "137  ISIC 2019 Train 384x384 Inpainted Stratified t...   \n",
       "\n",
       "                                    Kaggle Dataset URL  Kaggle Size (MB)  \\\n",
       "0    https://www.kaggle.com/nischaydnk/isic-2020-jp...             595.0   \n",
       "1    https://www.kaggle.com/nischaydnk/isic-2019-jp...             355.0   \n",
       "2    https://www.kaggle.com/cdeotte/jpeg-isic2019-5...            1024.0   \n",
       "3      https://www.kaggle.com/cdeotte/isic2019-512x512            1024.0   \n",
       "4    https://www.kaggle.com/nischaydnk/isic-2019-jp...             445.0   \n",
       "..                                                 ...               ...   \n",
       "133  https://www.kaggle.com/sanazmovahed/isic2019-2...            9216.0   \n",
       "134  https://www.kaggle.com/dharjoy/ham10000-skin-c...            2048.0   \n",
       "135  https://www.kaggle.com/chirag94/siimisicmelano...            3072.0   \n",
       "136  https://www.kaggle.com/mahmudulhasantasin/isic...            3072.0   \n",
       "137  https://www.kaggle.com/kiranthomascherian/isic...             674.0   \n",
       "\n",
       "    Original Dataset Name                            Orginal Dataset URL  \\\n",
       "0     ISIC 2020 Challenge  https://challenge.isic-archive.com/data/#2020   \n",
       "1     ISIC 2019 Challenge  https://challenge.isic-archive.com/data/#2019   \n",
       "2     ISIC 2019 Challenge  https://challenge.isic-archive.com/data/#2019   \n",
       "3     ISIC 2019 Challenge  https://challenge.isic-archive.com/data/#2019   \n",
       "4     ISIC 2019 Challenge  https://challenge.isic-archive.com/data/#2019   \n",
       "..                    ...                                            ...   \n",
       "133   ISIC 2018 Challenge  https://challenge.isic-archive.com/data/#2018   \n",
       "134   ISIC 2018 Challenge  https://challenge.isic-archive.com/data/#2018   \n",
       "135   ISIC 2020 Challenge  https://challenge.isic-archive.com/data/#2020   \n",
       "136   ISIC 2016 Challenge  https://challenge.isic-archive.com/data/#2016   \n",
       "137   ISIC 2019 Challenge  https://challenge.isic-archive.com/data/#2019   \n",
       "\n",
       "     Original Size (MB)  Size Difference (%)  \n",
       "0               29700.0                98.00  \n",
       "1               12700.0                97.20  \n",
       "2               12700.0                91.94  \n",
       "3               12700.0                91.94  \n",
       "4               12700.0                96.50  \n",
       "..                  ...                  ...  \n",
       "133             15880.0                41.96  \n",
       "134             15880.0                87.10  \n",
       "135             29700.0                89.66  \n",
       "136              4219.0                27.19  \n",
       "137             12700.0                94.69  \n",
       "\n",
       "[138 rows x 7 columns]"
      ]
     },
     "execution_count": 69,
     "metadata": {},
     "output_type": "execute_result"
    }
   ],
   "source": [
    "potential_duplicates_df_based_on_name = pd.read_csv(\"../data/02_potential_isic_duplicates_based_on_name.csv\")\n",
    "potential_duplicates_df_based_on_name"
   ]
  },
  {
   "cell_type": "code",
   "execution_count": 70,
   "metadata": {},
   "outputs": [
    {
     "data": {
      "application/vnd.plotly.v1+json": {
       "config": {
        "plotlyServerURL": "https://plot.ly"
       },
       "data": [
        {
         "alignmentgroup": "True",
         "bingroup": "x",
         "hovertemplate": "Size Difference (%)=%{x}<br>count=%{y}<extra></extra>",
         "legendgroup": "",
         "marker": {
          "color": "#636efa",
          "pattern": {
           "shape": ""
          }
         },
         "name": "",
         "nbinsx": 10,
         "offsetgroup": "",
         "orientation": "v",
         "showlegend": false,
         "type": "histogram",
         "x": [
          98,
          97.2,
          91.94,
          91.94,
          96.5,
          99.18,
          96.69,
          93.31,
          98.41,
          75.81,
          93.27,
          99.33,
          27.43,
          96.59,
          99.01,
          98,
          75.81,
          59.69,
          97.9,
          98.91,
          59.69,
          3.31,
          51.65,
          27.43,
          27.43,
          20.7,
          59.69,
          59.69,
          12.81,
          99.77,
          96.83,
          16.17,
          80.28,
          27.43,
          80.42,
          27.43,
          99.83,
          80.42,
          80.3,
          99.83,
          3.31,
          98.1,
          97.44,
          98.58,
          99.6,
          75.87,
          83.87,
          75.81,
          97.59,
          99.62,
          99.71,
          20.7,
          94.06,
          98.02,
          92.15,
          3.43,
          93.1,
          91.94,
          51.62,
          97.11,
          94.21,
          75.81,
          95.8,
          27.43,
          20.7,
          99.01,
          99.69,
          27.43,
          96.44,
          98.27,
          98.96,
          99.5,
          87.1,
          35.52,
          83.87,
          83.87,
          87.1,
          100,
          99.95,
          85.75,
          80.3,
          3.31,
          51.65,
          85.87,
          27.43,
          80.65,
          51.65,
          100,
          98.94,
          91.94,
          91.94,
          27.43,
          51.65,
          94.53,
          27.19,
          80.3,
          87.1,
          80.65,
          27.43,
          59.71,
          83.87,
          67.75,
          67.75,
          10.33,
          27.43,
          16.17,
          41.39,
          99.54,
          93.55,
          51.62,
          35.5,
          75.81,
          67.75,
          67.75,
          51.65,
          99.99,
          97.07,
          96.61,
          67.75,
          97.69,
          35.52,
          80.65,
          67.75,
          27.43,
          51.62,
          35.5,
          20.7,
          29.07,
          59.71,
          80.28,
          94.96,
          87.1,
          98.21,
          41.96,
          87.1,
          89.66,
          27.19,
          94.69
         ],
         "xaxis": "x",
         "yaxis": "y"
        }
       ],
       "layout": {
        "barmode": "relative",
        "legend": {
         "tracegroupgap": 0
        },
        "template": {
         "data": {
          "bar": [
           {
            "error_x": {
             "color": "#2a3f5f"
            },
            "error_y": {
             "color": "#2a3f5f"
            },
            "marker": {
             "line": {
              "color": "#E5ECF6",
              "width": 0.5
             },
             "pattern": {
              "fillmode": "overlay",
              "size": 10,
              "solidity": 0.2
             }
            },
            "type": "bar"
           }
          ],
          "barpolar": [
           {
            "marker": {
             "line": {
              "color": "#E5ECF6",
              "width": 0.5
             },
             "pattern": {
              "fillmode": "overlay",
              "size": 10,
              "solidity": 0.2
             }
            },
            "type": "barpolar"
           }
          ],
          "carpet": [
           {
            "aaxis": {
             "endlinecolor": "#2a3f5f",
             "gridcolor": "white",
             "linecolor": "white",
             "minorgridcolor": "white",
             "startlinecolor": "#2a3f5f"
            },
            "baxis": {
             "endlinecolor": "#2a3f5f",
             "gridcolor": "white",
             "linecolor": "white",
             "minorgridcolor": "white",
             "startlinecolor": "#2a3f5f"
            },
            "type": "carpet"
           }
          ],
          "choropleth": [
           {
            "colorbar": {
             "outlinewidth": 0,
             "ticks": ""
            },
            "type": "choropleth"
           }
          ],
          "contour": [
           {
            "colorbar": {
             "outlinewidth": 0,
             "ticks": ""
            },
            "colorscale": [
             [
              0,
              "#0d0887"
             ],
             [
              0.1111111111111111,
              "#46039f"
             ],
             [
              0.2222222222222222,
              "#7201a8"
             ],
             [
              0.3333333333333333,
              "#9c179e"
             ],
             [
              0.4444444444444444,
              "#bd3786"
             ],
             [
              0.5555555555555556,
              "#d8576b"
             ],
             [
              0.6666666666666666,
              "#ed7953"
             ],
             [
              0.7777777777777778,
              "#fb9f3a"
             ],
             [
              0.8888888888888888,
              "#fdca26"
             ],
             [
              1,
              "#f0f921"
             ]
            ],
            "type": "contour"
           }
          ],
          "contourcarpet": [
           {
            "colorbar": {
             "outlinewidth": 0,
             "ticks": ""
            },
            "type": "contourcarpet"
           }
          ],
          "heatmap": [
           {
            "colorbar": {
             "outlinewidth": 0,
             "ticks": ""
            },
            "colorscale": [
             [
              0,
              "#0d0887"
             ],
             [
              0.1111111111111111,
              "#46039f"
             ],
             [
              0.2222222222222222,
              "#7201a8"
             ],
             [
              0.3333333333333333,
              "#9c179e"
             ],
             [
              0.4444444444444444,
              "#bd3786"
             ],
             [
              0.5555555555555556,
              "#d8576b"
             ],
             [
              0.6666666666666666,
              "#ed7953"
             ],
             [
              0.7777777777777778,
              "#fb9f3a"
             ],
             [
              0.8888888888888888,
              "#fdca26"
             ],
             [
              1,
              "#f0f921"
             ]
            ],
            "type": "heatmap"
           }
          ],
          "heatmapgl": [
           {
            "colorbar": {
             "outlinewidth": 0,
             "ticks": ""
            },
            "colorscale": [
             [
              0,
              "#0d0887"
             ],
             [
              0.1111111111111111,
              "#46039f"
             ],
             [
              0.2222222222222222,
              "#7201a8"
             ],
             [
              0.3333333333333333,
              "#9c179e"
             ],
             [
              0.4444444444444444,
              "#bd3786"
             ],
             [
              0.5555555555555556,
              "#d8576b"
             ],
             [
              0.6666666666666666,
              "#ed7953"
             ],
             [
              0.7777777777777778,
              "#fb9f3a"
             ],
             [
              0.8888888888888888,
              "#fdca26"
             ],
             [
              1,
              "#f0f921"
             ]
            ],
            "type": "heatmapgl"
           }
          ],
          "histogram": [
           {
            "marker": {
             "pattern": {
              "fillmode": "overlay",
              "size": 10,
              "solidity": 0.2
             }
            },
            "type": "histogram"
           }
          ],
          "histogram2d": [
           {
            "colorbar": {
             "outlinewidth": 0,
             "ticks": ""
            },
            "colorscale": [
             [
              0,
              "#0d0887"
             ],
             [
              0.1111111111111111,
              "#46039f"
             ],
             [
              0.2222222222222222,
              "#7201a8"
             ],
             [
              0.3333333333333333,
              "#9c179e"
             ],
             [
              0.4444444444444444,
              "#bd3786"
             ],
             [
              0.5555555555555556,
              "#d8576b"
             ],
             [
              0.6666666666666666,
              "#ed7953"
             ],
             [
              0.7777777777777778,
              "#fb9f3a"
             ],
             [
              0.8888888888888888,
              "#fdca26"
             ],
             [
              1,
              "#f0f921"
             ]
            ],
            "type": "histogram2d"
           }
          ],
          "histogram2dcontour": [
           {
            "colorbar": {
             "outlinewidth": 0,
             "ticks": ""
            },
            "colorscale": [
             [
              0,
              "#0d0887"
             ],
             [
              0.1111111111111111,
              "#46039f"
             ],
             [
              0.2222222222222222,
              "#7201a8"
             ],
             [
              0.3333333333333333,
              "#9c179e"
             ],
             [
              0.4444444444444444,
              "#bd3786"
             ],
             [
              0.5555555555555556,
              "#d8576b"
             ],
             [
              0.6666666666666666,
              "#ed7953"
             ],
             [
              0.7777777777777778,
              "#fb9f3a"
             ],
             [
              0.8888888888888888,
              "#fdca26"
             ],
             [
              1,
              "#f0f921"
             ]
            ],
            "type": "histogram2dcontour"
           }
          ],
          "mesh3d": [
           {
            "colorbar": {
             "outlinewidth": 0,
             "ticks": ""
            },
            "type": "mesh3d"
           }
          ],
          "parcoords": [
           {
            "line": {
             "colorbar": {
              "outlinewidth": 0,
              "ticks": ""
             }
            },
            "type": "parcoords"
           }
          ],
          "pie": [
           {
            "automargin": true,
            "type": "pie"
           }
          ],
          "scatter": [
           {
            "fillpattern": {
             "fillmode": "overlay",
             "size": 10,
             "solidity": 0.2
            },
            "type": "scatter"
           }
          ],
          "scatter3d": [
           {
            "line": {
             "colorbar": {
              "outlinewidth": 0,
              "ticks": ""
             }
            },
            "marker": {
             "colorbar": {
              "outlinewidth": 0,
              "ticks": ""
             }
            },
            "type": "scatter3d"
           }
          ],
          "scattercarpet": [
           {
            "marker": {
             "colorbar": {
              "outlinewidth": 0,
              "ticks": ""
             }
            },
            "type": "scattercarpet"
           }
          ],
          "scattergeo": [
           {
            "marker": {
             "colorbar": {
              "outlinewidth": 0,
              "ticks": ""
             }
            },
            "type": "scattergeo"
           }
          ],
          "scattergl": [
           {
            "marker": {
             "colorbar": {
              "outlinewidth": 0,
              "ticks": ""
             }
            },
            "type": "scattergl"
           }
          ],
          "scattermapbox": [
           {
            "marker": {
             "colorbar": {
              "outlinewidth": 0,
              "ticks": ""
             }
            },
            "type": "scattermapbox"
           }
          ],
          "scatterpolar": [
           {
            "marker": {
             "colorbar": {
              "outlinewidth": 0,
              "ticks": ""
             }
            },
            "type": "scatterpolar"
           }
          ],
          "scatterpolargl": [
           {
            "marker": {
             "colorbar": {
              "outlinewidth": 0,
              "ticks": ""
             }
            },
            "type": "scatterpolargl"
           }
          ],
          "scatterternary": [
           {
            "marker": {
             "colorbar": {
              "outlinewidth": 0,
              "ticks": ""
             }
            },
            "type": "scatterternary"
           }
          ],
          "surface": [
           {
            "colorbar": {
             "outlinewidth": 0,
             "ticks": ""
            },
            "colorscale": [
             [
              0,
              "#0d0887"
             ],
             [
              0.1111111111111111,
              "#46039f"
             ],
             [
              0.2222222222222222,
              "#7201a8"
             ],
             [
              0.3333333333333333,
              "#9c179e"
             ],
             [
              0.4444444444444444,
              "#bd3786"
             ],
             [
              0.5555555555555556,
              "#d8576b"
             ],
             [
              0.6666666666666666,
              "#ed7953"
             ],
             [
              0.7777777777777778,
              "#fb9f3a"
             ],
             [
              0.8888888888888888,
              "#fdca26"
             ],
             [
              1,
              "#f0f921"
             ]
            ],
            "type": "surface"
           }
          ],
          "table": [
           {
            "cells": {
             "fill": {
              "color": "#EBF0F8"
             },
             "line": {
              "color": "white"
             }
            },
            "header": {
             "fill": {
              "color": "#C8D4E3"
             },
             "line": {
              "color": "white"
             }
            },
            "type": "table"
           }
          ]
         },
         "layout": {
          "annotationdefaults": {
           "arrowcolor": "#2a3f5f",
           "arrowhead": 0,
           "arrowwidth": 1
          },
          "autotypenumbers": "strict",
          "coloraxis": {
           "colorbar": {
            "outlinewidth": 0,
            "ticks": ""
           }
          },
          "colorscale": {
           "diverging": [
            [
             0,
             "#8e0152"
            ],
            [
             0.1,
             "#c51b7d"
            ],
            [
             0.2,
             "#de77ae"
            ],
            [
             0.3,
             "#f1b6da"
            ],
            [
             0.4,
             "#fde0ef"
            ],
            [
             0.5,
             "#f7f7f7"
            ],
            [
             0.6,
             "#e6f5d0"
            ],
            [
             0.7,
             "#b8e186"
            ],
            [
             0.8,
             "#7fbc41"
            ],
            [
             0.9,
             "#4d9221"
            ],
            [
             1,
             "#276419"
            ]
           ],
           "sequential": [
            [
             0,
             "#0d0887"
            ],
            [
             0.1111111111111111,
             "#46039f"
            ],
            [
             0.2222222222222222,
             "#7201a8"
            ],
            [
             0.3333333333333333,
             "#9c179e"
            ],
            [
             0.4444444444444444,
             "#bd3786"
            ],
            [
             0.5555555555555556,
             "#d8576b"
            ],
            [
             0.6666666666666666,
             "#ed7953"
            ],
            [
             0.7777777777777778,
             "#fb9f3a"
            ],
            [
             0.8888888888888888,
             "#fdca26"
            ],
            [
             1,
             "#f0f921"
            ]
           ],
           "sequentialminus": [
            [
             0,
             "#0d0887"
            ],
            [
             0.1111111111111111,
             "#46039f"
            ],
            [
             0.2222222222222222,
             "#7201a8"
            ],
            [
             0.3333333333333333,
             "#9c179e"
            ],
            [
             0.4444444444444444,
             "#bd3786"
            ],
            [
             0.5555555555555556,
             "#d8576b"
            ],
            [
             0.6666666666666666,
             "#ed7953"
            ],
            [
             0.7777777777777778,
             "#fb9f3a"
            ],
            [
             0.8888888888888888,
             "#fdca26"
            ],
            [
             1,
             "#f0f921"
            ]
           ]
          },
          "colorway": [
           "#636efa",
           "#EF553B",
           "#00cc96",
           "#ab63fa",
           "#FFA15A",
           "#19d3f3",
           "#FF6692",
           "#B6E880",
           "#FF97FF",
           "#FECB52"
          ],
          "font": {
           "color": "#2a3f5f"
          },
          "geo": {
           "bgcolor": "white",
           "lakecolor": "white",
           "landcolor": "#E5ECF6",
           "showlakes": true,
           "showland": true,
           "subunitcolor": "white"
          },
          "hoverlabel": {
           "align": "left"
          },
          "hovermode": "closest",
          "mapbox": {
           "style": "light"
          },
          "paper_bgcolor": "white",
          "plot_bgcolor": "#E5ECF6",
          "polar": {
           "angularaxis": {
            "gridcolor": "white",
            "linecolor": "white",
            "ticks": ""
           },
           "bgcolor": "#E5ECF6",
           "radialaxis": {
            "gridcolor": "white",
            "linecolor": "white",
            "ticks": ""
           }
          },
          "scene": {
           "xaxis": {
            "backgroundcolor": "#E5ECF6",
            "gridcolor": "white",
            "gridwidth": 2,
            "linecolor": "white",
            "showbackground": true,
            "ticks": "",
            "zerolinecolor": "white"
           },
           "yaxis": {
            "backgroundcolor": "#E5ECF6",
            "gridcolor": "white",
            "gridwidth": 2,
            "linecolor": "white",
            "showbackground": true,
            "ticks": "",
            "zerolinecolor": "white"
           },
           "zaxis": {
            "backgroundcolor": "#E5ECF6",
            "gridcolor": "white",
            "gridwidth": 2,
            "linecolor": "white",
            "showbackground": true,
            "ticks": "",
            "zerolinecolor": "white"
           }
          },
          "shapedefaults": {
           "line": {
            "color": "#2a3f5f"
           }
          },
          "ternary": {
           "aaxis": {
            "gridcolor": "white",
            "linecolor": "white",
            "ticks": ""
           },
           "baxis": {
            "gridcolor": "white",
            "linecolor": "white",
            "ticks": ""
           },
           "bgcolor": "#E5ECF6",
           "caxis": {
            "gridcolor": "white",
            "linecolor": "white",
            "ticks": ""
           }
          },
          "title": {
           "x": 0.05
          },
          "xaxis": {
           "automargin": true,
           "gridcolor": "white",
           "linecolor": "white",
           "ticks": "",
           "title": {
            "standoff": 15
           },
           "zerolinecolor": "white",
           "zerolinewidth": 2
          },
          "yaxis": {
           "automargin": true,
           "gridcolor": "white",
           "linecolor": "white",
           "ticks": "",
           "title": {
            "standoff": 15
           },
           "zerolinecolor": "white",
           "zerolinewidth": 2
          }
         }
        },
        "title": {
         "text": "Distribution of Size Difference of datasets that have the same year in the title"
        },
        "xaxis": {
         "anchor": "y",
         "domain": [
          0,
          1
         ],
         "title": {
          "text": "Size Difference (%)"
         }
        },
        "yaxis": {
         "anchor": "x",
         "domain": [
          0,
          1
         ],
         "title": {
          "text": "count"
         }
        }
       }
      }
     },
     "metadata": {},
     "output_type": "display_data"
    }
   ],
   "source": [
    "fig = px.histogram(potential_duplicates_df_based_on_name, x=\"Size Difference (%)\", \n",
    "                   nbins=10,\n",
    "                   title=\"Distribution of Size Difference of datasets that have the same year in the title\")\n",
    "\n",
    "fig.show()"
   ]
  }
 ],
 "metadata": {
  "kernelspec": {
   "display_name": ".venv",
   "language": "python",
   "name": "python3"
  },
  "language_info": {
   "codemirror_mode": {
    "name": "ipython",
    "version": 3
   },
   "file_extension": ".py",
   "mimetype": "text/x-python",
   "name": "python",
   "nbconvert_exporter": "python",
   "pygments_lexer": "ipython3",
   "version": "3.12.6"
  }
 },
 "nbformat": 4,
 "nbformat_minor": 2
}
