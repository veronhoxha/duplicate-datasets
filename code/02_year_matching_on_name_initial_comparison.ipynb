{
 "cells": [
  {
   "cell_type": "markdown",
   "metadata": {},
   "source": [
    "# Identifying Potential Duplicates among ISIC Datasets on Kaggle and Original ISIC Challenge Datasets Based on Corresponding Year Tags in Titles"
   ]
  },
  {
   "cell_type": "markdown",
   "metadata": {},
   "source": [
    "## Imports"
   ]
  },
  {
   "cell_type": "code",
   "execution_count": 1,
   "metadata": {},
   "outputs": [],
   "source": [
    "import pandas as pd\n",
    "import re\n",
    "import plotly.express as px\n",
    "import numpy as np\n",
    "import os\n",
    "\n",
    "# Custom util functions\n",
    "import sys; sys.path.append(\"./libraries/\")\n",
    "from libraries.utils import *"
   ]
  },
  {
   "cell_type": "code",
   "execution_count": 2,
   "metadata": {},
   "outputs": [],
   "source": [
    "df_kaggle_isic_metadata = pd.read_csv(\"../data/01_isic_datasets_metadata.csv\")\n",
    "df_original_isic_metadata = pd.read_csv(\"../data/isic_challange_datasets.csv\")"
   ]
  },
  {
   "cell_type": "code",
   "execution_count": 3,
   "metadata": {},
   "outputs": [
    {
     "data": {
      "text/html": [
       "<div>\n",
       "<style scoped>\n",
       "    .dataframe tbody tr th:only-of-type {\n",
       "        vertical-align: middle;\n",
       "    }\n",
       "\n",
       "    .dataframe tbody tr th {\n",
       "        vertical-align: top;\n",
       "    }\n",
       "\n",
       "    .dataframe thead th {\n",
       "        text-align: right;\n",
       "    }\n",
       "</style>\n",
       "<table border=\"1\" class=\"dataframe\">\n",
       "  <thead>\n",
       "    <tr style=\"text-align: right;\">\n",
       "      <th></th>\n",
       "      <th>@context.@language</th>\n",
       "      <th>@context.@vocab</th>\n",
       "      <th>@type</th>\n",
       "      <th>name</th>\n",
       "      <th>alternateName</th>\n",
       "      <th>description</th>\n",
       "      <th>url</th>\n",
       "      <th>identifier</th>\n",
       "      <th>creator.@type</th>\n",
       "      <th>creator.name</th>\n",
       "      <th>...</th>\n",
       "      <th>distribution_0.@type</th>\n",
       "      <th>contentUrl</th>\n",
       "      <th>contentSize</th>\n",
       "      <th>encodingFormat</th>\n",
       "      <th>isPrivate</th>\n",
       "      <th>downloadCount</th>\n",
       "      <th>viewCount</th>\n",
       "      <th>voteCount</th>\n",
       "      <th>usabilityRating</th>\n",
       "      <th>conformsTo</th>\n",
       "    </tr>\n",
       "  </thead>\n",
       "  <tbody>\n",
       "    <tr>\n",
       "      <th>0</th>\n",
       "      <td>en</td>\n",
       "      <td>https://schema.org/</td>\n",
       "      <td>Dataset</td>\n",
       "      <td>Skin Cancer ISIC</td>\n",
       "      <td>The skin cancer data. Contains 9 classes of sk...</td>\n",
       "      <td>NaN</td>\n",
       "      <td>https://www.kaggle.com/nodoubttome/skin-cancer...</td>\n",
       "      <td>319080</td>\n",
       "      <td>Person</td>\n",
       "      <td>Andrey Katanskiy</td>\n",
       "      <td>...</td>\n",
       "      <td>DataDownload</td>\n",
       "      <td>https://www.kaggle.com/datasets/nodoubttome/sk...</td>\n",
       "      <td>2048.0</td>\n",
       "      <td>application/zip</td>\n",
       "      <td>False</td>\n",
       "      <td>16375</td>\n",
       "      <td>132171</td>\n",
       "      <td>220</td>\n",
       "      <td>0.750000</td>\n",
       "      <td>http://mlcommons.org/croissant/1.0</td>\n",
       "    </tr>\n",
       "    <tr>\n",
       "      <th>1</th>\n",
       "      <td>en</td>\n",
       "      <td>https://schema.org/</td>\n",
       "      <td>Dataset</td>\n",
       "      <td>All ISIC Data 20240629</td>\n",
       "      <td>All images and metadata in ISIC archive.</td>\n",
       "      <td>NaN</td>\n",
       "      <td>https://www.kaggle.com/tomooinubushi/all-isic-...</td>\n",
       "      <td>5302785</td>\n",
       "      <td>Person</td>\n",
       "      <td>tomoo inubushi</td>\n",
       "      <td>...</td>\n",
       "      <td>DataDownload</td>\n",
       "      <td>https://www.kaggle.com/datasets/tomooinubushi/...</td>\n",
       "      <td>75776.0</td>\n",
       "      <td>application/zip</td>\n",
       "      <td>False</td>\n",
       "      <td>376</td>\n",
       "      <td>3489</td>\n",
       "      <td>55</td>\n",
       "      <td>0.764706</td>\n",
       "      <td>http://mlcommons.org/croissant/1.0</td>\n",
       "    </tr>\n",
       "    <tr>\n",
       "      <th>2</th>\n",
       "      <td>en</td>\n",
       "      <td>https://schema.org/</td>\n",
       "      <td>Dataset</td>\n",
       "      <td>ISIC 2020 JPG 256x256 RESIZED</td>\n",
       "      <td>NaN</td>\n",
       "      <td>NaN</td>\n",
       "      <td>https://www.kaggle.com/nischaydnk/isic-2020-jp...</td>\n",
       "      <td>5295545</td>\n",
       "      <td>Person</td>\n",
       "      <td>Nischay Dhankhar</td>\n",
       "      <td>...</td>\n",
       "      <td>DataDownload</td>\n",
       "      <td>https://www.kaggle.com/datasets/nischaydnk/isi...</td>\n",
       "      <td>595.0</td>\n",
       "      <td>application/zip</td>\n",
       "      <td>False</td>\n",
       "      <td>709</td>\n",
       "      <td>2149</td>\n",
       "      <td>48</td>\n",
       "      <td>0.882353</td>\n",
       "      <td>http://mlcommons.org/croissant/1.0</td>\n",
       "    </tr>\n",
       "    <tr>\n",
       "      <th>3</th>\n",
       "      <td>en</td>\n",
       "      <td>https://schema.org/</td>\n",
       "      <td>Dataset</td>\n",
       "      <td>ISIC 2019 JPG 224x224 RESIZED</td>\n",
       "      <td>ISIC 2019 resized dataset</td>\n",
       "      <td>NaN</td>\n",
       "      <td>https://www.kaggle.com/nischaydnk/isic-2019-jp...</td>\n",
       "      <td>5295517</td>\n",
       "      <td>Person</td>\n",
       "      <td>Nischay Dhankhar</td>\n",
       "      <td>...</td>\n",
       "      <td>DataDownload</td>\n",
       "      <td>https://www.kaggle.com/datasets/nischaydnk/isi...</td>\n",
       "      <td>355.0</td>\n",
       "      <td>application/zip</td>\n",
       "      <td>False</td>\n",
       "      <td>561</td>\n",
       "      <td>1930</td>\n",
       "      <td>40</td>\n",
       "      <td>0.941176</td>\n",
       "      <td>http://mlcommons.org/croissant/1.0</td>\n",
       "    </tr>\n",
       "    <tr>\n",
       "      <th>4</th>\n",
       "      <td>en</td>\n",
       "      <td>https://schema.org/</td>\n",
       "      <td>Dataset</td>\n",
       "      <td>JPEG ISIC 2019 512x512</td>\n",
       "      <td>NaN</td>\n",
       "      <td>NaN</td>\n",
       "      <td>https://www.kaggle.com/cdeotte/jpeg-isic2019-5...</td>\n",
       "      <td>762203</td>\n",
       "      <td>Person</td>\n",
       "      <td>Chris Deotte</td>\n",
       "      <td>...</td>\n",
       "      <td>DataDownload</td>\n",
       "      <td>https://www.kaggle.com/datasets/cdeotte/jpeg-i...</td>\n",
       "      <td>1024.0</td>\n",
       "      <td>application/zip</td>\n",
       "      <td>False</td>\n",
       "      <td>2445</td>\n",
       "      <td>7096</td>\n",
       "      <td>54</td>\n",
       "      <td>0.588235</td>\n",
       "      <td>http://mlcommons.org/croissant/1.0</td>\n",
       "    </tr>\n",
       "    <tr>\n",
       "      <th>...</th>\n",
       "      <td>...</td>\n",
       "      <td>...</td>\n",
       "      <td>...</td>\n",
       "      <td>...</td>\n",
       "      <td>...</td>\n",
       "      <td>...</td>\n",
       "      <td>...</td>\n",
       "      <td>...</td>\n",
       "      <td>...</td>\n",
       "      <td>...</td>\n",
       "      <td>...</td>\n",
       "      <td>...</td>\n",
       "      <td>...</td>\n",
       "      <td>...</td>\n",
       "      <td>...</td>\n",
       "      <td>...</td>\n",
       "      <td>...</td>\n",
       "      <td>...</td>\n",
       "      <td>...</td>\n",
       "      <td>...</td>\n",
       "      <td>...</td>\n",
       "    </tr>\n",
       "    <tr>\n",
       "      <th>855</th>\n",
       "      <td>en</td>\n",
       "      <td>https://schema.org/</td>\n",
       "      <td>Dataset</td>\n",
       "      <td>melanoma_isic</td>\n",
       "      <td>NaN</td>\n",
       "      <td>NaN</td>\n",
       "      <td>https://www.kaggle.com/chitrapsg/melanoma-isic</td>\n",
       "      <td>3501446</td>\n",
       "      <td>Person</td>\n",
       "      <td>Chitra Govindasamy</td>\n",
       "      <td>...</td>\n",
       "      <td>DataDownload</td>\n",
       "      <td>https://www.kaggle.com/datasets/chitrapsg/mela...</td>\n",
       "      <td>786.0</td>\n",
       "      <td>application/zip</td>\n",
       "      <td>False</td>\n",
       "      <td>3</td>\n",
       "      <td>81</td>\n",
       "      <td>0</td>\n",
       "      <td>0.000000</td>\n",
       "      <td>http://mlcommons.org/croissant/1.0</td>\n",
       "    </tr>\n",
       "    <tr>\n",
       "      <th>856</th>\n",
       "      <td>en</td>\n",
       "      <td>https://schema.org/</td>\n",
       "      <td>Dataset</td>\n",
       "      <td>4000ISIC19Balanced</td>\n",
       "      <td>NaN</td>\n",
       "      <td>NaN</td>\n",
       "      <td>https://www.kaggle.com/manirujjamanmonir/4000i...</td>\n",
       "      <td>3374258</td>\n",
       "      <td>Person</td>\n",
       "      <td>Manirujjaman Monir</td>\n",
       "      <td>...</td>\n",
       "      <td>DataDownload</td>\n",
       "      <td>https://www.kaggle.com/datasets/manirujjamanmo...</td>\n",
       "      <td>6144.0</td>\n",
       "      <td>application/zip</td>\n",
       "      <td>False</td>\n",
       "      <td>2</td>\n",
       "      <td>73</td>\n",
       "      <td>0</td>\n",
       "      <td>0.000000</td>\n",
       "      <td>http://mlcommons.org/croissant/1.0</td>\n",
       "    </tr>\n",
       "    <tr>\n",
       "      <th>857</th>\n",
       "      <td>en</td>\n",
       "      <td>https://schema.org/</td>\n",
       "      <td>Dataset</td>\n",
       "      <td>siim_isic_2020_leukemia_dataset</td>\n",
       "      <td>NaN</td>\n",
       "      <td>NaN</td>\n",
       "      <td>https://www.kaggle.com/rajibbag1/siim-isic-202...</td>\n",
       "      <td>4911856</td>\n",
       "      <td>Person</td>\n",
       "      <td>RAJIB BAG_1</td>\n",
       "      <td>...</td>\n",
       "      <td>DataDownload</td>\n",
       "      <td>https://www.kaggle.com/datasets/rajibbag1/siim...</td>\n",
       "      <td>2048.0</td>\n",
       "      <td>application/zip</td>\n",
       "      <td>False</td>\n",
       "      <td>0</td>\n",
       "      <td>20</td>\n",
       "      <td>0</td>\n",
       "      <td>0.000000</td>\n",
       "      <td>http://mlcommons.org/croissant/1.0</td>\n",
       "    </tr>\n",
       "    <tr>\n",
       "      <th>858</th>\n",
       "      <td>en</td>\n",
       "      <td>https://schema.org/</td>\n",
       "      <td>Dataset</td>\n",
       "      <td>data_isic1718</td>\n",
       "      <td>NaN</td>\n",
       "      <td>NaN</td>\n",
       "      <td>https://www.kaggle.com/bugakakak/data-isic1718</td>\n",
       "      <td>4788617</td>\n",
       "      <td>Person</td>\n",
       "      <td>bugakakak</td>\n",
       "      <td>...</td>\n",
       "      <td>DataDownload</td>\n",
       "      <td>https://www.kaggle.com/datasets/bugakakak/data...</td>\n",
       "      <td>261.0</td>\n",
       "      <td>application/zip</td>\n",
       "      <td>False</td>\n",
       "      <td>0</td>\n",
       "      <td>17</td>\n",
       "      <td>0</td>\n",
       "      <td>0.000000</td>\n",
       "      <td>http://mlcommons.org/croissant/1.0</td>\n",
       "    </tr>\n",
       "    <tr>\n",
       "      <th>859</th>\n",
       "      <td>en</td>\n",
       "      <td>https://schema.org/</td>\n",
       "      <td>Dataset</td>\n",
       "      <td>Linear_exact_ISIC_2017_test</td>\n",
       "      <td>NaN</td>\n",
       "      <td>NaN</td>\n",
       "      <td>https://www.kaggle.com/sujansarkar/linear-exac...</td>\n",
       "      <td>3804149</td>\n",
       "      <td>Person</td>\n",
       "      <td>Sujan Sarkar</td>\n",
       "      <td>...</td>\n",
       "      <td>DataDownload</td>\n",
       "      <td>https://www.kaggle.com/datasets/sujansarkar/li...</td>\n",
       "      <td>54.0</td>\n",
       "      <td>application/zip</td>\n",
       "      <td>False</td>\n",
       "      <td>1</td>\n",
       "      <td>39</td>\n",
       "      <td>0</td>\n",
       "      <td>0.000000</td>\n",
       "      <td>http://mlcommons.org/croissant/1.0</td>\n",
       "    </tr>\n",
       "  </tbody>\n",
       "</table>\n",
       "<p>860 rows × 26 columns</p>\n",
       "</div>"
      ],
      "text/plain": [
       "    @context.@language      @context.@vocab    @type  \\\n",
       "0                   en  https://schema.org/  Dataset   \n",
       "1                   en  https://schema.org/  Dataset   \n",
       "2                   en  https://schema.org/  Dataset   \n",
       "3                   en  https://schema.org/  Dataset   \n",
       "4                   en  https://schema.org/  Dataset   \n",
       "..                 ...                  ...      ...   \n",
       "855                 en  https://schema.org/  Dataset   \n",
       "856                 en  https://schema.org/  Dataset   \n",
       "857                 en  https://schema.org/  Dataset   \n",
       "858                 en  https://schema.org/  Dataset   \n",
       "859                 en  https://schema.org/  Dataset   \n",
       "\n",
       "                                name  \\\n",
       "0                   Skin Cancer ISIC   \n",
       "1             All ISIC Data 20240629   \n",
       "2      ISIC 2020 JPG 256x256 RESIZED   \n",
       "3      ISIC 2019 JPG 224x224 RESIZED   \n",
       "4             JPEG ISIC 2019 512x512   \n",
       "..                               ...   \n",
       "855                    melanoma_isic   \n",
       "856               4000ISIC19Balanced   \n",
       "857  siim_isic_2020_leukemia_dataset   \n",
       "858                    data_isic1718   \n",
       "859      Linear_exact_ISIC_2017_test   \n",
       "\n",
       "                                         alternateName  description  \\\n",
       "0    The skin cancer data. Contains 9 classes of sk...          NaN   \n",
       "1             All images and metadata in ISIC archive.          NaN   \n",
       "2                                                  NaN          NaN   \n",
       "3                            ISIC 2019 resized dataset          NaN   \n",
       "4                                                  NaN          NaN   \n",
       "..                                                 ...          ...   \n",
       "855                                                NaN          NaN   \n",
       "856                                                NaN          NaN   \n",
       "857                                                NaN          NaN   \n",
       "858                                                NaN          NaN   \n",
       "859                                                NaN          NaN   \n",
       "\n",
       "                                                   url  identifier  \\\n",
       "0    https://www.kaggle.com/nodoubttome/skin-cancer...      319080   \n",
       "1    https://www.kaggle.com/tomooinubushi/all-isic-...     5302785   \n",
       "2    https://www.kaggle.com/nischaydnk/isic-2020-jp...     5295545   \n",
       "3    https://www.kaggle.com/nischaydnk/isic-2019-jp...     5295517   \n",
       "4    https://www.kaggle.com/cdeotte/jpeg-isic2019-5...      762203   \n",
       "..                                                 ...         ...   \n",
       "855     https://www.kaggle.com/chitrapsg/melanoma-isic     3501446   \n",
       "856  https://www.kaggle.com/manirujjamanmonir/4000i...     3374258   \n",
       "857  https://www.kaggle.com/rajibbag1/siim-isic-202...     4911856   \n",
       "858     https://www.kaggle.com/bugakakak/data-isic1718     4788617   \n",
       "859  https://www.kaggle.com/sujansarkar/linear-exac...     3804149   \n",
       "\n",
       "    creator.@type        creator.name  ... distribution_0.@type  \\\n",
       "0          Person    Andrey Katanskiy  ...         DataDownload   \n",
       "1          Person      tomoo inubushi  ...         DataDownload   \n",
       "2          Person    Nischay Dhankhar  ...         DataDownload   \n",
       "3          Person    Nischay Dhankhar  ...         DataDownload   \n",
       "4          Person        Chris Deotte  ...         DataDownload   \n",
       "..            ...                 ...  ...                  ...   \n",
       "855        Person  Chitra Govindasamy  ...         DataDownload   \n",
       "856        Person  Manirujjaman Monir  ...         DataDownload   \n",
       "857        Person         RAJIB BAG_1  ...         DataDownload   \n",
       "858        Person           bugakakak  ...         DataDownload   \n",
       "859        Person        Sujan Sarkar  ...         DataDownload   \n",
       "\n",
       "                                            contentUrl contentSize  \\\n",
       "0    https://www.kaggle.com/datasets/nodoubttome/sk...      2048.0   \n",
       "1    https://www.kaggle.com/datasets/tomooinubushi/...     75776.0   \n",
       "2    https://www.kaggle.com/datasets/nischaydnk/isi...       595.0   \n",
       "3    https://www.kaggle.com/datasets/nischaydnk/isi...       355.0   \n",
       "4    https://www.kaggle.com/datasets/cdeotte/jpeg-i...      1024.0   \n",
       "..                                                 ...         ...   \n",
       "855  https://www.kaggle.com/datasets/chitrapsg/mela...       786.0   \n",
       "856  https://www.kaggle.com/datasets/manirujjamanmo...      6144.0   \n",
       "857  https://www.kaggle.com/datasets/rajibbag1/siim...      2048.0   \n",
       "858  https://www.kaggle.com/datasets/bugakakak/data...       261.0   \n",
       "859  https://www.kaggle.com/datasets/sujansarkar/li...        54.0   \n",
       "\n",
       "      encodingFormat isPrivate  downloadCount viewCount voteCount  \\\n",
       "0    application/zip     False          16375    132171       220   \n",
       "1    application/zip     False            376      3489        55   \n",
       "2    application/zip     False            709      2149        48   \n",
       "3    application/zip     False            561      1930        40   \n",
       "4    application/zip     False           2445      7096        54   \n",
       "..               ...       ...            ...       ...       ...   \n",
       "855  application/zip     False              3        81         0   \n",
       "856  application/zip     False              2        73         0   \n",
       "857  application/zip     False              0        20         0   \n",
       "858  application/zip     False              0        17         0   \n",
       "859  application/zip     False              1        39         0   \n",
       "\n",
       "    usabilityRating                          conformsTo  \n",
       "0          0.750000  http://mlcommons.org/croissant/1.0  \n",
       "1          0.764706  http://mlcommons.org/croissant/1.0  \n",
       "2          0.882353  http://mlcommons.org/croissant/1.0  \n",
       "3          0.941176  http://mlcommons.org/croissant/1.0  \n",
       "4          0.588235  http://mlcommons.org/croissant/1.0  \n",
       "..              ...                                 ...  \n",
       "855        0.000000  http://mlcommons.org/croissant/1.0  \n",
       "856        0.000000  http://mlcommons.org/croissant/1.0  \n",
       "857        0.000000  http://mlcommons.org/croissant/1.0  \n",
       "858        0.000000  http://mlcommons.org/croissant/1.0  \n",
       "859        0.000000  http://mlcommons.org/croissant/1.0  \n",
       "\n",
       "[860 rows x 26 columns]"
      ]
     },
     "execution_count": 3,
     "metadata": {},
     "output_type": "execute_result"
    }
   ],
   "source": [
    "df_kaggle_isic_metadata"
   ]
  },
  {
   "cell_type": "code",
   "execution_count": 4,
   "metadata": {},
   "outputs": [
    {
     "data": {
      "text/html": [
       "<div>\n",
       "<style scoped>\n",
       "    .dataframe tbody tr th:only-of-type {\n",
       "        vertical-align: middle;\n",
       "    }\n",
       "\n",
       "    .dataframe tbody tr th {\n",
       "        vertical-align: top;\n",
       "    }\n",
       "\n",
       "    .dataframe thead th {\n",
       "        text-align: right;\n",
       "    }\n",
       "</style>\n",
       "<table border=\"1\" class=\"dataframe\">\n",
       "  <thead>\n",
       "    <tr style=\"text-align: right;\">\n",
       "      <th></th>\n",
       "      <th>name</th>\n",
       "      <th>url</th>\n",
       "      <th>trainSize</th>\n",
       "      <th>valSize</th>\n",
       "      <th>testSize</th>\n",
       "      <th>contentSize</th>\n",
       "    </tr>\n",
       "  </thead>\n",
       "  <tbody>\n",
       "    <tr>\n",
       "      <th>0</th>\n",
       "      <td>ISIC 2016 Challenge</td>\n",
       "      <td>https://challenge.isic-archive.com/data/#2016</td>\n",
       "      <td>3563.0</td>\n",
       "      <td>Unknown</td>\n",
       "      <td>1199.0</td>\n",
       "      <td>4763.0</td>\n",
       "    </tr>\n",
       "    <tr>\n",
       "      <th>1</th>\n",
       "      <td>ISIC 2017 Challenge</td>\n",
       "      <td>https://challenge.isic-archive.com/data/#2017</td>\n",
       "      <td>5939.0</td>\n",
       "      <td>899.0</td>\n",
       "      <td>5520.0</td>\n",
       "      <td>12358.0</td>\n",
       "    </tr>\n",
       "    <tr>\n",
       "      <th>2</th>\n",
       "      <td>ISIC 2018 Challenge</td>\n",
       "      <td>https://challenge.isic-archive.com/data/#2018</td>\n",
       "      <td>13312.0</td>\n",
       "      <td>286.0</td>\n",
       "      <td>2663.0</td>\n",
       "      <td>16261.0</td>\n",
       "    </tr>\n",
       "    <tr>\n",
       "      <th>3</th>\n",
       "      <td>ISIC 2019 Challenge</td>\n",
       "      <td>https://challenge.isic-archive.com/data/#2019</td>\n",
       "      <td>9318.0</td>\n",
       "      <td>Unknown</td>\n",
       "      <td>3686.0</td>\n",
       "      <td>13154.0</td>\n",
       "    </tr>\n",
       "    <tr>\n",
       "      <th>4</th>\n",
       "      <td>ISIC 2020 Challenge</td>\n",
       "      <td>https://challenge.isic-archive.com/data/#2020</td>\n",
       "      <td>23552.0</td>\n",
       "      <td>Unknown</td>\n",
       "      <td>6861.0</td>\n",
       "      <td>30413.0</td>\n",
       "    </tr>\n",
       "  </tbody>\n",
       "</table>\n",
       "</div>"
      ],
      "text/plain": [
       "                  name                                            url  \\\n",
       "0  ISIC 2016 Challenge  https://challenge.isic-archive.com/data/#2016   \n",
       "1  ISIC 2017 Challenge  https://challenge.isic-archive.com/data/#2017   \n",
       "2  ISIC 2018 Challenge  https://challenge.isic-archive.com/data/#2018   \n",
       "3  ISIC 2019 Challenge  https://challenge.isic-archive.com/data/#2019   \n",
       "4  ISIC 2020 Challenge  https://challenge.isic-archive.com/data/#2020   \n",
       "\n",
       "   trainSize  valSize  testSize  contentSize  \n",
       "0     3563.0  Unknown    1199.0       4763.0  \n",
       "1     5939.0    899.0    5520.0      12358.0  \n",
       "2    13312.0    286.0    2663.0      16261.0  \n",
       "3     9318.0  Unknown    3686.0      13154.0  \n",
       "4    23552.0  Unknown    6861.0      30413.0  "
      ]
     },
     "execution_count": 4,
     "metadata": {},
     "output_type": "execute_result"
    }
   ],
   "source": [
    "df_original_isic_metadata"
   ]
  },
  {
   "cell_type": "code",
   "execution_count": 5,
   "metadata": {},
   "outputs": [],
   "source": [
    "df_kaggle_isic_metadata = df_kaggle_isic_metadata.drop(df_kaggle_isic_metadata[df_kaggle_isic_metadata.contentSize == \"Unknown\"].index)\n",
    "df_kaggle_isic_metadata['contentSize'] = df_kaggle_isic_metadata['contentSize'].astype(float)"
   ]
  },
  {
   "cell_type": "code",
   "execution_count": 6,
   "metadata": {},
   "outputs": [],
   "source": [
    "df_original_isic_metadata['Year'] = df_original_isic_metadata['name'].apply(extract_year)\n",
    "df_kaggle_isic_metadata['Year'] = df_kaggle_isic_metadata['name'].apply(extract_year)"
   ]
  },
  {
   "cell_type": "code",
   "execution_count": 7,
   "metadata": {},
   "outputs": [
    {
     "name": "stdout",
     "output_type": "stream",
     "text": [
      "File already exists\n"
     ]
    }
   ],
   "source": [
    "potential_duplicates_df_based_on_name = find_potential_duplicates(df_original_isic_metadata, df_kaggle_isic_metadata)\n",
    "if not os.path.exists('../data/02_potential_isic_duplicates_based_on_name.csv'):\n",
    "    potential_duplicates_df_based_on_name.to_csv(\"../data/02_potential_isic_duplicates_based_on_name.csv\", index=False)\n",
    "else:\n",
    "    print(\"File already exists\")"
   ]
  },
  {
   "cell_type": "code",
   "execution_count": 8,
   "metadata": {},
   "outputs": [],
   "source": [
    "potential_duplicates_df_based_on_name['Size Difference Category (%)'] = potential_duplicates_df_based_on_name['Size Difference (%)'].apply(size_difference_category)\n",
    "potential_duplicates_df_based_on_name.to_csv('../data/02_potential_isic_duplicates_based_on_name.csv', index=False)"
   ]
  },
  {
   "cell_type": "code",
   "execution_count": 9,
   "metadata": {},
   "outputs": [
    {
     "data": {
      "text/html": [
       "<div>\n",
       "<style scoped>\n",
       "    .dataframe tbody tr th:only-of-type {\n",
       "        vertical-align: middle;\n",
       "    }\n",
       "\n",
       "    .dataframe tbody tr th {\n",
       "        vertical-align: top;\n",
       "    }\n",
       "\n",
       "    .dataframe thead th {\n",
       "        text-align: right;\n",
       "    }\n",
       "</style>\n",
       "<table border=\"1\" class=\"dataframe\">\n",
       "  <thead>\n",
       "    <tr style=\"text-align: right;\">\n",
       "      <th></th>\n",
       "      <th>Kaggle Dataset Name</th>\n",
       "      <th>Kaggle Dataset URL</th>\n",
       "      <th>Kaggle Size (MB)</th>\n",
       "      <th>Original Dataset Name</th>\n",
       "      <th>Orginal Dataset URL</th>\n",
       "      <th>Original Size (MB)</th>\n",
       "      <th>Size Difference (%)</th>\n",
       "      <th>Size Difference Category (%)</th>\n",
       "    </tr>\n",
       "  </thead>\n",
       "  <tbody>\n",
       "    <tr>\n",
       "      <th>0</th>\n",
       "      <td>ISIC 2020 JPG 256x256 RESIZED</td>\n",
       "      <td>https://www.kaggle.com/nischaydnk/isic-2020-jp...</td>\n",
       "      <td>595.0</td>\n",
       "      <td>ISIC 2020 Challenge</td>\n",
       "      <td>https://challenge.isic-archive.com/data/#2020</td>\n",
       "      <td>30413.0</td>\n",
       "      <td>98.04</td>\n",
       "      <td>60-100%</td>\n",
       "    </tr>\n",
       "    <tr>\n",
       "      <th>1</th>\n",
       "      <td>ISIC 2019 JPG 224x224 RESIZED</td>\n",
       "      <td>https://www.kaggle.com/nischaydnk/isic-2019-jp...</td>\n",
       "      <td>355.0</td>\n",
       "      <td>ISIC 2019 Challenge</td>\n",
       "      <td>https://challenge.isic-archive.com/data/#2019</td>\n",
       "      <td>13154.0</td>\n",
       "      <td>97.30</td>\n",
       "      <td>60-100%</td>\n",
       "    </tr>\n",
       "    <tr>\n",
       "      <th>2</th>\n",
       "      <td>JPEG ISIC 2019 512x512</td>\n",
       "      <td>https://www.kaggle.com/cdeotte/jpeg-isic2019-5...</td>\n",
       "      <td>1024.0</td>\n",
       "      <td>ISIC 2019 Challenge</td>\n",
       "      <td>https://challenge.isic-archive.com/data/#2019</td>\n",
       "      <td>13154.0</td>\n",
       "      <td>92.22</td>\n",
       "      <td>60-100%</td>\n",
       "    </tr>\n",
       "    <tr>\n",
       "      <th>3</th>\n",
       "      <td>ISIC 2019 TFRecords 512x512</td>\n",
       "      <td>https://www.kaggle.com/cdeotte/isic2019-512x512</td>\n",
       "      <td>1024.0</td>\n",
       "      <td>ISIC 2019 Challenge</td>\n",
       "      <td>https://challenge.isic-archive.com/data/#2019</td>\n",
       "      <td>13154.0</td>\n",
       "      <td>92.22</td>\n",
       "      <td>60-100%</td>\n",
       "    </tr>\n",
       "    <tr>\n",
       "      <th>4</th>\n",
       "      <td>ISIC 2019 JPG 256x256 RESIZED</td>\n",
       "      <td>https://www.kaggle.com/nischaydnk/isic-2019-jp...</td>\n",
       "      <td>445.0</td>\n",
       "      <td>ISIC 2019 Challenge</td>\n",
       "      <td>https://challenge.isic-archive.com/data/#2019</td>\n",
       "      <td>13154.0</td>\n",
       "      <td>96.62</td>\n",
       "      <td>60-100%</td>\n",
       "    </tr>\n",
       "    <tr>\n",
       "      <th>...</th>\n",
       "      <td>...</td>\n",
       "      <td>...</td>\n",
       "      <td>...</td>\n",
       "      <td>...</td>\n",
       "      <td>...</td>\n",
       "      <td>...</td>\n",
       "      <td>...</td>\n",
       "      <td>...</td>\n",
       "    </tr>\n",
       "    <tr>\n",
       "      <th>133</th>\n",
       "      <td>ISIC2019-2018-ITA-Based-Grouped</td>\n",
       "      <td>https://www.kaggle.com/sanazmovahed/isic2019-2...</td>\n",
       "      <td>9216.0</td>\n",
       "      <td>ISIC 2018 Challenge</td>\n",
       "      <td>https://challenge.isic-archive.com/data/#2018</td>\n",
       "      <td>16261.0</td>\n",
       "      <td>43.32</td>\n",
       "      <td>30-60%</td>\n",
       "    </tr>\n",
       "    <tr>\n",
       "      <th>134</th>\n",
       "      <td>ham10000 skin cancer isic 2018 dataset</td>\n",
       "      <td>https://www.kaggle.com/dharjoy/ham10000-skin-c...</td>\n",
       "      <td>2048.0</td>\n",
       "      <td>ISIC 2018 Challenge</td>\n",
       "      <td>https://challenge.isic-archive.com/data/#2018</td>\n",
       "      <td>16261.0</td>\n",
       "      <td>87.41</td>\n",
       "      <td>60-100%</td>\n",
       "    </tr>\n",
       "    <tr>\n",
       "      <th>135</th>\n",
       "      <td>SIIM-ISIC-Melanoma-Classification-2020-Resized...</td>\n",
       "      <td>https://www.kaggle.com/chirag94/siimisicmelano...</td>\n",
       "      <td>3072.0</td>\n",
       "      <td>ISIC 2020 Challenge</td>\n",
       "      <td>https://challenge.isic-archive.com/data/#2020</td>\n",
       "      <td>30413.0</td>\n",
       "      <td>89.90</td>\n",
       "      <td>60-100%</td>\n",
       "    </tr>\n",
       "    <tr>\n",
       "      <th>136</th>\n",
       "      <td>ISIC 2016 ORIGINAL DATASET 5 FOLDED WITH LABEL</td>\n",
       "      <td>https://www.kaggle.com/mahmudulhasantasin/isic...</td>\n",
       "      <td>3072.0</td>\n",
       "      <td>ISIC 2016 Challenge</td>\n",
       "      <td>https://challenge.isic-archive.com/data/#2016</td>\n",
       "      <td>4763.0</td>\n",
       "      <td>35.50</td>\n",
       "      <td>30-60%</td>\n",
       "    </tr>\n",
       "    <tr>\n",
       "      <th>137</th>\n",
       "      <td>ISIC 2019 Train 384x384 Inpainted Stratified t...</td>\n",
       "      <td>https://www.kaggle.com/kiranthomascherian/isic...</td>\n",
       "      <td>674.0</td>\n",
       "      <td>ISIC 2019 Challenge</td>\n",
       "      <td>https://challenge.isic-archive.com/data/#2019</td>\n",
       "      <td>13154.0</td>\n",
       "      <td>94.88</td>\n",
       "      <td>60-100%</td>\n",
       "    </tr>\n",
       "  </tbody>\n",
       "</table>\n",
       "<p>138 rows × 8 columns</p>\n",
       "</div>"
      ],
      "text/plain": [
       "                                   Kaggle Dataset Name  \\\n",
       "0                        ISIC 2020 JPG 256x256 RESIZED   \n",
       "1                        ISIC 2019 JPG 224x224 RESIZED   \n",
       "2                               JPEG ISIC 2019 512x512   \n",
       "3                          ISIC 2019 TFRecords 512x512   \n",
       "4                        ISIC 2019 JPG 256x256 RESIZED   \n",
       "..                                                 ...   \n",
       "133                    ISIC2019-2018-ITA-Based-Grouped   \n",
       "134             ham10000 skin cancer isic 2018 dataset   \n",
       "135  SIIM-ISIC-Melanoma-Classification-2020-Resized...   \n",
       "136     ISIC 2016 ORIGINAL DATASET 5 FOLDED WITH LABEL   \n",
       "137  ISIC 2019 Train 384x384 Inpainted Stratified t...   \n",
       "\n",
       "                                    Kaggle Dataset URL  Kaggle Size (MB)  \\\n",
       "0    https://www.kaggle.com/nischaydnk/isic-2020-jp...             595.0   \n",
       "1    https://www.kaggle.com/nischaydnk/isic-2019-jp...             355.0   \n",
       "2    https://www.kaggle.com/cdeotte/jpeg-isic2019-5...            1024.0   \n",
       "3      https://www.kaggle.com/cdeotte/isic2019-512x512            1024.0   \n",
       "4    https://www.kaggle.com/nischaydnk/isic-2019-jp...             445.0   \n",
       "..                                                 ...               ...   \n",
       "133  https://www.kaggle.com/sanazmovahed/isic2019-2...            9216.0   \n",
       "134  https://www.kaggle.com/dharjoy/ham10000-skin-c...            2048.0   \n",
       "135  https://www.kaggle.com/chirag94/siimisicmelano...            3072.0   \n",
       "136  https://www.kaggle.com/mahmudulhasantasin/isic...            3072.0   \n",
       "137  https://www.kaggle.com/kiranthomascherian/isic...             674.0   \n",
       "\n",
       "    Original Dataset Name                            Orginal Dataset URL  \\\n",
       "0     ISIC 2020 Challenge  https://challenge.isic-archive.com/data/#2020   \n",
       "1     ISIC 2019 Challenge  https://challenge.isic-archive.com/data/#2019   \n",
       "2     ISIC 2019 Challenge  https://challenge.isic-archive.com/data/#2019   \n",
       "3     ISIC 2019 Challenge  https://challenge.isic-archive.com/data/#2019   \n",
       "4     ISIC 2019 Challenge  https://challenge.isic-archive.com/data/#2019   \n",
       "..                    ...                                            ...   \n",
       "133   ISIC 2018 Challenge  https://challenge.isic-archive.com/data/#2018   \n",
       "134   ISIC 2018 Challenge  https://challenge.isic-archive.com/data/#2018   \n",
       "135   ISIC 2020 Challenge  https://challenge.isic-archive.com/data/#2020   \n",
       "136   ISIC 2016 Challenge  https://challenge.isic-archive.com/data/#2016   \n",
       "137   ISIC 2019 Challenge  https://challenge.isic-archive.com/data/#2019   \n",
       "\n",
       "     Original Size (MB)  Size Difference (%) Size Difference Category (%)  \n",
       "0               30413.0                98.04                      60-100%  \n",
       "1               13154.0                97.30                      60-100%  \n",
       "2               13154.0                92.22                      60-100%  \n",
       "3               13154.0                92.22                      60-100%  \n",
       "4               13154.0                96.62                      60-100%  \n",
       "..                  ...                  ...                          ...  \n",
       "133             16261.0                43.32                       30-60%  \n",
       "134             16261.0                87.41                      60-100%  \n",
       "135             30413.0                89.90                      60-100%  \n",
       "136              4763.0                35.50                       30-60%  \n",
       "137             13154.0                94.88                      60-100%  \n",
       "\n",
       "[138 rows x 8 columns]"
      ]
     },
     "execution_count": 9,
     "metadata": {},
     "output_type": "execute_result"
    }
   ],
   "source": [
    "potential_duplicates_df_based_on_name"
   ]
  },
  {
   "cell_type": "code",
   "execution_count": 10,
   "metadata": {},
   "outputs": [
    {
     "data": {
      "text/html": [
       "<div>\n",
       "<style scoped>\n",
       "    .dataframe tbody tr th:only-of-type {\n",
       "        vertical-align: middle;\n",
       "    }\n",
       "\n",
       "    .dataframe tbody tr th {\n",
       "        vertical-align: top;\n",
       "    }\n",
       "\n",
       "    .dataframe thead th {\n",
       "        text-align: right;\n",
       "    }\n",
       "</style>\n",
       "<table border=\"1\" class=\"dataframe\">\n",
       "  <thead>\n",
       "    <tr style=\"text-align: right;\">\n",
       "      <th></th>\n",
       "      <th>Kaggle Dataset Name</th>\n",
       "      <th>Kaggle Dataset URL</th>\n",
       "      <th>Kaggle Size (MB)</th>\n",
       "      <th>Original Dataset Name</th>\n",
       "      <th>Orginal Dataset URL</th>\n",
       "      <th>Original Size (MB)</th>\n",
       "      <th>Size Difference (%)</th>\n",
       "      <th>Size Difference Category (%)</th>\n",
       "    </tr>\n",
       "  </thead>\n",
       "  <tbody>\n",
       "    <tr>\n",
       "      <th>40</th>\n",
       "      <td>ISIC 2017 Original Dataset</td>\n",
       "      <td>https://www.kaggle.com/mahmudulhasantasin/isic...</td>\n",
       "      <td>12288.000000</td>\n",
       "      <td>ISIC 2017 Challenge</td>\n",
       "      <td>https://challenge.isic-archive.com/data/#2017</td>\n",
       "      <td>12358.0</td>\n",
       "      <td>0.57</td>\n",
       "      <td>1-30%</td>\n",
       "    </tr>\n",
       "    <tr>\n",
       "      <th>21</th>\n",
       "      <td>ISIC-2017</td>\n",
       "      <td>https://www.kaggle.com/johnchfr/isic-2017</td>\n",
       "      <td>12288.000000</td>\n",
       "      <td>ISIC 2017 Challenge</td>\n",
       "      <td>https://challenge.isic-archive.com/data/#2017</td>\n",
       "      <td>12358.0</td>\n",
       "      <td>0.57</td>\n",
       "      <td>1-30%</td>\n",
       "    </tr>\n",
       "    <tr>\n",
       "      <th>81</th>\n",
       "      <td>ISIC 2017 Task 3 Dataset</td>\n",
       "      <td>https://www.kaggle.com/srijankundu/isic-2017-t...</td>\n",
       "      <td>12288.000000</td>\n",
       "      <td>ISIC 2017 Challenge</td>\n",
       "      <td>https://challenge.isic-archive.com/data/#2017</td>\n",
       "      <td>12358.0</td>\n",
       "      <td>0.57</td>\n",
       "      <td>1-30%</td>\n",
       "    </tr>\n",
       "    <tr>\n",
       "      <th>56</th>\n",
       "      <td>ISIC Challenge Dataset-2020</td>\n",
       "      <td>https://www.kaggle.com/sumaiyabinteshahid/isic...</td>\n",
       "      <td>30720.000000</td>\n",
       "      <td>ISIC 2020 Challenge</td>\n",
       "      <td>https://challenge.isic-archive.com/data/#2020</td>\n",
       "      <td>30413.0</td>\n",
       "      <td>1.01</td>\n",
       "      <td>1-30%</td>\n",
       "    </tr>\n",
       "    <tr>\n",
       "      <th>104</th>\n",
       "      <td>ISIC 2020</td>\n",
       "      <td>https://www.kaggle.com/shakiburrahmanasif/isic...</td>\n",
       "      <td>32768.000000</td>\n",
       "      <td>ISIC 2020 Challenge</td>\n",
       "      <td>https://challenge.isic-archive.com/data/#2020</td>\n",
       "      <td>30413.0</td>\n",
       "      <td>7.74</td>\n",
       "      <td>1-30%</td>\n",
       "    </tr>\n",
       "    <tr>\n",
       "      <th>...</th>\n",
       "      <td>...</td>\n",
       "      <td>...</td>\n",
       "      <td>...</td>\n",
       "      <td>...</td>\n",
       "      <td>...</td>\n",
       "      <td>...</td>\n",
       "      <td>...</td>\n",
       "      <td>...</td>\n",
       "    </tr>\n",
       "    <tr>\n",
       "      <th>39</th>\n",
       "      <td>Skin Cancer Dataset ISIC 2016</td>\n",
       "      <td>https://www.kaggle.com/mdforiduzzamanzihad/ski...</td>\n",
       "      <td>7.000000</td>\n",
       "      <td>ISIC 2016 Challenge</td>\n",
       "      <td>https://challenge.isic-archive.com/data/#2016</td>\n",
       "      <td>4763.0</td>\n",
       "      <td>99.85</td>\n",
       "      <td>60-100%</td>\n",
       "    </tr>\n",
       "    <tr>\n",
       "      <th>78</th>\n",
       "      <td>SIIM-ISIC-2020</td>\n",
       "      <td>https://www.kaggle.com/abdulrahmanamukhlif/sii...</td>\n",
       "      <td>14.000000</td>\n",
       "      <td>ISIC 2020 Challenge</td>\n",
       "      <td>https://challenge.isic-archive.com/data/#2020</td>\n",
       "      <td>30413.0</td>\n",
       "      <td>99.95</td>\n",
       "      <td>60-100%</td>\n",
       "    </tr>\n",
       "    <tr>\n",
       "      <th>115</th>\n",
       "      <td>Deep Features Skin Cancer ISIC 2017</td>\n",
       "      <td>https://www.kaggle.com/usmansadiq/deep-feature...</td>\n",
       "      <td>1.000000</td>\n",
       "      <td>ISIC 2017 Challenge</td>\n",
       "      <td>https://challenge.isic-archive.com/data/#2017</td>\n",
       "      <td>12358.0</td>\n",
       "      <td>99.99</td>\n",
       "      <td>60-100%</td>\n",
       "    </tr>\n",
       "    <tr>\n",
       "      <th>77</th>\n",
       "      <td>ISIC 2019 Pseudo Patient Labels</td>\n",
       "      <td>https://www.kaggle.com/feidawei/isic-2019-pseu...</td>\n",
       "      <td>0.165039</td>\n",
       "      <td>ISIC 2019 Challenge</td>\n",
       "      <td>https://challenge.isic-archive.com/data/#2019</td>\n",
       "      <td>13154.0</td>\n",
       "      <td>100.00</td>\n",
       "      <td>60-100%</td>\n",
       "    </tr>\n",
       "    <tr>\n",
       "      <th>82</th>\n",
       "      <td>isic 2019 target</td>\n",
       "      <td>https://www.kaggle.com/jiang0236/isic-2019-target</td>\n",
       "      <td>0.063477</td>\n",
       "      <td>ISIC 2019 Challenge</td>\n",
       "      <td>https://challenge.isic-archive.com/data/#2019</td>\n",
       "      <td>13154.0</td>\n",
       "      <td>100.00</td>\n",
       "      <td>60-100%</td>\n",
       "    </tr>\n",
       "  </tbody>\n",
       "</table>\n",
       "<p>138 rows × 8 columns</p>\n",
       "</div>"
      ],
      "text/plain": [
       "                     Kaggle Dataset Name  \\\n",
       "40            ISIC 2017 Original Dataset   \n",
       "21                             ISIC-2017   \n",
       "81              ISIC 2017 Task 3 Dataset   \n",
       "56           ISIC Challenge Dataset-2020   \n",
       "104                            ISIC 2020   \n",
       "..                                   ...   \n",
       "39        Skin Cancer Dataset ISIC 2016    \n",
       "78                        SIIM-ISIC-2020   \n",
       "115  Deep Features Skin Cancer ISIC 2017   \n",
       "77       ISIC 2019 Pseudo Patient Labels   \n",
       "82                      isic 2019 target   \n",
       "\n",
       "                                    Kaggle Dataset URL  Kaggle Size (MB)  \\\n",
       "40   https://www.kaggle.com/mahmudulhasantasin/isic...      12288.000000   \n",
       "21           https://www.kaggle.com/johnchfr/isic-2017      12288.000000   \n",
       "81   https://www.kaggle.com/srijankundu/isic-2017-t...      12288.000000   \n",
       "56   https://www.kaggle.com/sumaiyabinteshahid/isic...      30720.000000   \n",
       "104  https://www.kaggle.com/shakiburrahmanasif/isic...      32768.000000   \n",
       "..                                                 ...               ...   \n",
       "39   https://www.kaggle.com/mdforiduzzamanzihad/ski...          7.000000   \n",
       "78   https://www.kaggle.com/abdulrahmanamukhlif/sii...         14.000000   \n",
       "115  https://www.kaggle.com/usmansadiq/deep-feature...          1.000000   \n",
       "77   https://www.kaggle.com/feidawei/isic-2019-pseu...          0.165039   \n",
       "82   https://www.kaggle.com/jiang0236/isic-2019-target          0.063477   \n",
       "\n",
       "    Original Dataset Name                            Orginal Dataset URL  \\\n",
       "40    ISIC 2017 Challenge  https://challenge.isic-archive.com/data/#2017   \n",
       "21    ISIC 2017 Challenge  https://challenge.isic-archive.com/data/#2017   \n",
       "81    ISIC 2017 Challenge  https://challenge.isic-archive.com/data/#2017   \n",
       "56    ISIC 2020 Challenge  https://challenge.isic-archive.com/data/#2020   \n",
       "104   ISIC 2020 Challenge  https://challenge.isic-archive.com/data/#2020   \n",
       "..                    ...                                            ...   \n",
       "39    ISIC 2016 Challenge  https://challenge.isic-archive.com/data/#2016   \n",
       "78    ISIC 2020 Challenge  https://challenge.isic-archive.com/data/#2020   \n",
       "115   ISIC 2017 Challenge  https://challenge.isic-archive.com/data/#2017   \n",
       "77    ISIC 2019 Challenge  https://challenge.isic-archive.com/data/#2019   \n",
       "82    ISIC 2019 Challenge  https://challenge.isic-archive.com/data/#2019   \n",
       "\n",
       "     Original Size (MB)  Size Difference (%) Size Difference Category (%)  \n",
       "40              12358.0                 0.57                        1-30%  \n",
       "21              12358.0                 0.57                        1-30%  \n",
       "81              12358.0                 0.57                        1-30%  \n",
       "56              30413.0                 1.01                        1-30%  \n",
       "104             30413.0                 7.74                        1-30%  \n",
       "..                  ...                  ...                          ...  \n",
       "39               4763.0                99.85                      60-100%  \n",
       "78              30413.0                99.95                      60-100%  \n",
       "115             12358.0                99.99                      60-100%  \n",
       "77              13154.0               100.00                      60-100%  \n",
       "82              13154.0               100.00                      60-100%  \n",
       "\n",
       "[138 rows x 8 columns]"
      ]
     },
     "execution_count": 10,
     "metadata": {},
     "output_type": "execute_result"
    }
   ],
   "source": [
    "potential_duplicates_df_based_on_name.sort_values(by='Size Difference (%)', ascending=True)"
   ]
  },
  {
   "cell_type": "code",
   "execution_count": 11,
   "metadata": {},
   "outputs": [
    {
     "data": {
      "text/plain": [
       "np.float64(83.545)"
      ]
     },
     "execution_count": 11,
     "metadata": {},
     "output_type": "execute_result"
    }
   ],
   "source": [
    "potential_duplicates_df_based_on_name['Size Difference (%)'].median()"
   ]
  },
  {
   "cell_type": "markdown",
   "metadata": {},
   "source": [
    "## Matched datasets picked for further comparison"
   ]
  },
  {
   "cell_type": "code",
   "execution_count": 12,
   "metadata": {},
   "outputs": [],
   "source": [
    "# potential_duplicates_df_based_on_name_sample_for_comparison = potential_duplicates_df_based_on_name.groupby('Size Difference Category (%)').sample(n=1)\n",
    "# potential_duplicates_df_based_on_name_sample_for_comparison\n",
    "# potential_duplicates_df_based_on_name_sample_for_comparison.to_csv('../data/potential_duplicates_df_based_on_name_sample_for_comparison.csv', index=False)"
   ]
  },
  {
   "cell_type": "code",
   "execution_count": 13,
   "metadata": {},
   "outputs": [
    {
     "data": {
      "text/html": [
       "<div>\n",
       "<style scoped>\n",
       "    .dataframe tbody tr th:only-of-type {\n",
       "        vertical-align: middle;\n",
       "    }\n",
       "\n",
       "    .dataframe tbody tr th {\n",
       "        vertical-align: top;\n",
       "    }\n",
       "\n",
       "    .dataframe thead th {\n",
       "        text-align: right;\n",
       "    }\n",
       "</style>\n",
       "<table border=\"1\" class=\"dataframe\">\n",
       "  <thead>\n",
       "    <tr style=\"text-align: right;\">\n",
       "      <th></th>\n",
       "      <th>Kaggle Dataset Name</th>\n",
       "      <th>Kaggle Dataset URL</th>\n",
       "      <th>Kaggle Size (MB)</th>\n",
       "      <th>Original Dataset Name</th>\n",
       "      <th>Orginal Dataset URL</th>\n",
       "      <th>Original Size (MB)</th>\n",
       "      <th>Size Difference (%)</th>\n",
       "      <th>Size Difference Category (%)</th>\n",
       "    </tr>\n",
       "  </thead>\n",
       "  <tbody>\n",
       "    <tr>\n",
       "      <th>0</th>\n",
       "      <td>ISIC-2018</td>\n",
       "      <td>https://www.kaggle.com/trantoanthang/isic-2018</td>\n",
       "      <td>13312.0</td>\n",
       "      <td>ISIC 2018 Challenge</td>\n",
       "      <td>https://challenge.isic-archive.com/data/#2018</td>\n",
       "      <td>16261.0</td>\n",
       "      <td>18.14</td>\n",
       "      <td>1-30%</td>\n",
       "    </tr>\n",
       "    <tr>\n",
       "      <th>1</th>\n",
       "      <td>ISIC 2017 1 FOLD</td>\n",
       "      <td>https://www.kaggle.com/mahmudulhasantasin/isic...</td>\n",
       "      <td>6144.0</td>\n",
       "      <td>ISIC 2017 Challenge</td>\n",
       "      <td>https://challenge.isic-archive.com/data/#2017</td>\n",
       "      <td>12358.0</td>\n",
       "      <td>50.28</td>\n",
       "      <td>30-60%</td>\n",
       "    </tr>\n",
       "    <tr>\n",
       "      <th>2</th>\n",
       "      <td>ISIC 2019 Preprocessed Dataset</td>\n",
       "      <td>https://www.kaggle.com/segijaganath/isic-2019-...</td>\n",
       "      <td>3072.0</td>\n",
       "      <td>ISIC 2019 Challenge</td>\n",
       "      <td>https://challenge.isic-archive.com/data/#2019</td>\n",
       "      <td>13154.0</td>\n",
       "      <td>76.65</td>\n",
       "      <td>60-100%</td>\n",
       "    </tr>\n",
       "  </tbody>\n",
       "</table>\n",
       "</div>"
      ],
      "text/plain": [
       "              Kaggle Dataset Name  \\\n",
       "0                       ISIC-2018   \n",
       "1                ISIC 2017 1 FOLD   \n",
       "2  ISIC 2019 Preprocessed Dataset   \n",
       "\n",
       "                                  Kaggle Dataset URL  Kaggle Size (MB)  \\\n",
       "0     https://www.kaggle.com/trantoanthang/isic-2018           13312.0   \n",
       "1  https://www.kaggle.com/mahmudulhasantasin/isic...            6144.0   \n",
       "2  https://www.kaggle.com/segijaganath/isic-2019-...            3072.0   \n",
       "\n",
       "  Original Dataset Name                            Orginal Dataset URL  \\\n",
       "0   ISIC 2018 Challenge  https://challenge.isic-archive.com/data/#2018   \n",
       "1   ISIC 2017 Challenge  https://challenge.isic-archive.com/data/#2017   \n",
       "2   ISIC 2019 Challenge  https://challenge.isic-archive.com/data/#2019   \n",
       "\n",
       "   Original Size (MB)  Size Difference (%) Size Difference Category (%)  \n",
       "0             16261.0                18.14                        1-30%  \n",
       "1             12358.0                50.28                       30-60%  \n",
       "2             13154.0                76.65                      60-100%  "
      ]
     },
     "execution_count": 13,
     "metadata": {},
     "output_type": "execute_result"
    }
   ],
   "source": [
    "potential_duplicates_df_based_on_name_sample_for_comparison = pd.read_csv(\"../data/potential_duplicates_df_based_on_name_sample_for_comparison.csv\")\n",
    "potential_duplicates_df_based_on_name_sample_for_comparison"
   ]
  },
  {
   "cell_type": "markdown",
   "metadata": {},
   "source": [
    "## Histogram of \"Size Difference (%)\""
   ]
  },
  {
   "cell_type": "code",
   "execution_count": 14,
   "metadata": {},
   "outputs": [
    {
     "data": {
      "application/vnd.plotly.v1+json": {
       "config": {
        "plotlyServerURL": "https://plot.ly"
       },
       "data": [
        {
         "alignmentgroup": "True",
         "bingroup": "x",
         "hovertemplate": "Binned Size Difference=%{x}<br>count=%{y}<extra></extra>",
         "legendgroup": "",
         "marker": {
          "color": "#2d3546",
          "pattern": {
           "shape": ""
          }
         },
         "name": "",
         "offsetgroup": "",
         "orientation": "v",
         "showlegend": false,
         "texttemplate": "%{value}",
         "type": "histogram",
         "x": [
          "60-100%",
          "60-100%",
          "60-100%",
          "60-100%",
          "60-100%",
          "60-100%",
          "60-100%",
          "60-100%",
          "60-100%",
          "60-100%",
          "60-100%",
          "60-100%",
          "1-30%",
          "60-100%",
          "60-100%",
          "60-100%",
          "60-100%",
          "60-100%",
          "60-100%",
          "60-100%",
          "60-100%",
          "1-30%",
          "30-60%",
          "1-30%",
          "1-30%",
          "1-30%",
          "60-100%",
          "60-100%",
          "1-30%",
          "60-100%",
          "60-100%",
          "1-30%",
          "60-100%",
          "1-30%",
          "60-100%",
          "1-30%",
          "60-100%",
          "60-100%",
          "60-100%",
          "60-100%",
          "1-30%",
          "60-100%",
          "60-100%",
          "60-100%",
          "60-100%",
          "60-100%",
          "60-100%",
          "60-100%",
          "60-100%",
          "60-100%",
          "60-100%",
          "60-100%",
          "1-30%",
          "60-100%",
          "60-100%",
          "60-100%",
          "1-30%",
          "60-100%",
          "60-100%",
          "30-60%",
          "60-100%",
          "60-100%",
          "60-100%",
          "1-30%",
          "1-30%",
          "60-100%",
          "60-100%",
          "1-30%",
          "60-100%",
          "60-100%",
          "60-100%",
          "60-100%",
          "60-100%",
          "30-60%",
          "60-100%",
          "60-100%",
          "60-100%",
          "60-100%",
          "60-100%",
          "60-100%",
          "60-100%",
          "1-30%",
          "60-100%",
          "60-100%",
          "30-60%",
          "60-100%",
          "1-30%",
          "60-100%",
          "30-60%",
          "60-100%",
          "60-100%",
          "1-30%",
          "30-60%",
          "60-100%",
          "60-100%",
          "30-60%",
          "60-100%",
          "60-100%",
          "1-30%",
          "30-60%",
          "60-100%",
          "60-100%",
          "60-100%",
          "1-30%",
          "1-30%",
          "1-30%",
          "30-60%",
          "60-100%",
          "60-100%",
          "30-60%",
          "30-60%",
          "60-100%",
          "60-100%",
          "60-100%",
          "30-60%",
          "60-100%",
          "60-100%",
          "60-100%",
          "60-100%",
          "60-100%",
          "30-60%",
          "60-100%",
          "60-100%",
          "1-30%",
          "30-60%",
          "30-60%",
          "30-60%",
          "1-30%",
          "30-60%",
          "60-100%",
          "60-100%",
          "60-100%",
          "60-100%",
          "30-60%",
          "60-100%",
          "60-100%",
          "30-60%",
          "60-100%"
         ],
         "xaxis": "x",
         "yaxis": "y"
        }
       ],
       "layout": {
        "barmode": "relative",
        "legend": {
         "tracegroupgap": 0
        },
        "margin": {
         "t": 60
        },
        "template": {
         "data": {
          "bar": [
           {
            "error_x": {
             "color": "#2a3f5f"
            },
            "error_y": {
             "color": "#2a3f5f"
            },
            "marker": {
             "line": {
              "color": "#E5ECF6",
              "width": 0.5
             },
             "pattern": {
              "fillmode": "overlay",
              "size": 10,
              "solidity": 0.2
             }
            },
            "type": "bar"
           }
          ],
          "barpolar": [
           {
            "marker": {
             "line": {
              "color": "#E5ECF6",
              "width": 0.5
             },
             "pattern": {
              "fillmode": "overlay",
              "size": 10,
              "solidity": 0.2
             }
            },
            "type": "barpolar"
           }
          ],
          "carpet": [
           {
            "aaxis": {
             "endlinecolor": "#2a3f5f",
             "gridcolor": "white",
             "linecolor": "white",
             "minorgridcolor": "white",
             "startlinecolor": "#2a3f5f"
            },
            "baxis": {
             "endlinecolor": "#2a3f5f",
             "gridcolor": "white",
             "linecolor": "white",
             "minorgridcolor": "white",
             "startlinecolor": "#2a3f5f"
            },
            "type": "carpet"
           }
          ],
          "choropleth": [
           {
            "colorbar": {
             "outlinewidth": 0,
             "ticks": ""
            },
            "type": "choropleth"
           }
          ],
          "contour": [
           {
            "colorbar": {
             "outlinewidth": 0,
             "ticks": ""
            },
            "colorscale": [
             [
              0,
              "#0d0887"
             ],
             [
              0.1111111111111111,
              "#46039f"
             ],
             [
              0.2222222222222222,
              "#7201a8"
             ],
             [
              0.3333333333333333,
              "#9c179e"
             ],
             [
              0.4444444444444444,
              "#bd3786"
             ],
             [
              0.5555555555555556,
              "#d8576b"
             ],
             [
              0.6666666666666666,
              "#ed7953"
             ],
             [
              0.7777777777777778,
              "#fb9f3a"
             ],
             [
              0.8888888888888888,
              "#fdca26"
             ],
             [
              1,
              "#f0f921"
             ]
            ],
            "type": "contour"
           }
          ],
          "contourcarpet": [
           {
            "colorbar": {
             "outlinewidth": 0,
             "ticks": ""
            },
            "type": "contourcarpet"
           }
          ],
          "heatmap": [
           {
            "colorbar": {
             "outlinewidth": 0,
             "ticks": ""
            },
            "colorscale": [
             [
              0,
              "#0d0887"
             ],
             [
              0.1111111111111111,
              "#46039f"
             ],
             [
              0.2222222222222222,
              "#7201a8"
             ],
             [
              0.3333333333333333,
              "#9c179e"
             ],
             [
              0.4444444444444444,
              "#bd3786"
             ],
             [
              0.5555555555555556,
              "#d8576b"
             ],
             [
              0.6666666666666666,
              "#ed7953"
             ],
             [
              0.7777777777777778,
              "#fb9f3a"
             ],
             [
              0.8888888888888888,
              "#fdca26"
             ],
             [
              1,
              "#f0f921"
             ]
            ],
            "type": "heatmap"
           }
          ],
          "heatmapgl": [
           {
            "colorbar": {
             "outlinewidth": 0,
             "ticks": ""
            },
            "colorscale": [
             [
              0,
              "#0d0887"
             ],
             [
              0.1111111111111111,
              "#46039f"
             ],
             [
              0.2222222222222222,
              "#7201a8"
             ],
             [
              0.3333333333333333,
              "#9c179e"
             ],
             [
              0.4444444444444444,
              "#bd3786"
             ],
             [
              0.5555555555555556,
              "#d8576b"
             ],
             [
              0.6666666666666666,
              "#ed7953"
             ],
             [
              0.7777777777777778,
              "#fb9f3a"
             ],
             [
              0.8888888888888888,
              "#fdca26"
             ],
             [
              1,
              "#f0f921"
             ]
            ],
            "type": "heatmapgl"
           }
          ],
          "histogram": [
           {
            "marker": {
             "pattern": {
              "fillmode": "overlay",
              "size": 10,
              "solidity": 0.2
             }
            },
            "type": "histogram"
           }
          ],
          "histogram2d": [
           {
            "colorbar": {
             "outlinewidth": 0,
             "ticks": ""
            },
            "colorscale": [
             [
              0,
              "#0d0887"
             ],
             [
              0.1111111111111111,
              "#46039f"
             ],
             [
              0.2222222222222222,
              "#7201a8"
             ],
             [
              0.3333333333333333,
              "#9c179e"
             ],
             [
              0.4444444444444444,
              "#bd3786"
             ],
             [
              0.5555555555555556,
              "#d8576b"
             ],
             [
              0.6666666666666666,
              "#ed7953"
             ],
             [
              0.7777777777777778,
              "#fb9f3a"
             ],
             [
              0.8888888888888888,
              "#fdca26"
             ],
             [
              1,
              "#f0f921"
             ]
            ],
            "type": "histogram2d"
           }
          ],
          "histogram2dcontour": [
           {
            "colorbar": {
             "outlinewidth": 0,
             "ticks": ""
            },
            "colorscale": [
             [
              0,
              "#0d0887"
             ],
             [
              0.1111111111111111,
              "#46039f"
             ],
             [
              0.2222222222222222,
              "#7201a8"
             ],
             [
              0.3333333333333333,
              "#9c179e"
             ],
             [
              0.4444444444444444,
              "#bd3786"
             ],
             [
              0.5555555555555556,
              "#d8576b"
             ],
             [
              0.6666666666666666,
              "#ed7953"
             ],
             [
              0.7777777777777778,
              "#fb9f3a"
             ],
             [
              0.8888888888888888,
              "#fdca26"
             ],
             [
              1,
              "#f0f921"
             ]
            ],
            "type": "histogram2dcontour"
           }
          ],
          "mesh3d": [
           {
            "colorbar": {
             "outlinewidth": 0,
             "ticks": ""
            },
            "type": "mesh3d"
           }
          ],
          "parcoords": [
           {
            "line": {
             "colorbar": {
              "outlinewidth": 0,
              "ticks": ""
             }
            },
            "type": "parcoords"
           }
          ],
          "pie": [
           {
            "automargin": true,
            "type": "pie"
           }
          ],
          "scatter": [
           {
            "fillpattern": {
             "fillmode": "overlay",
             "size": 10,
             "solidity": 0.2
            },
            "type": "scatter"
           }
          ],
          "scatter3d": [
           {
            "line": {
             "colorbar": {
              "outlinewidth": 0,
              "ticks": ""
             }
            },
            "marker": {
             "colorbar": {
              "outlinewidth": 0,
              "ticks": ""
             }
            },
            "type": "scatter3d"
           }
          ],
          "scattercarpet": [
           {
            "marker": {
             "colorbar": {
              "outlinewidth": 0,
              "ticks": ""
             }
            },
            "type": "scattercarpet"
           }
          ],
          "scattergeo": [
           {
            "marker": {
             "colorbar": {
              "outlinewidth": 0,
              "ticks": ""
             }
            },
            "type": "scattergeo"
           }
          ],
          "scattergl": [
           {
            "marker": {
             "colorbar": {
              "outlinewidth": 0,
              "ticks": ""
             }
            },
            "type": "scattergl"
           }
          ],
          "scattermapbox": [
           {
            "marker": {
             "colorbar": {
              "outlinewidth": 0,
              "ticks": ""
             }
            },
            "type": "scattermapbox"
           }
          ],
          "scatterpolar": [
           {
            "marker": {
             "colorbar": {
              "outlinewidth": 0,
              "ticks": ""
             }
            },
            "type": "scatterpolar"
           }
          ],
          "scatterpolargl": [
           {
            "marker": {
             "colorbar": {
              "outlinewidth": 0,
              "ticks": ""
             }
            },
            "type": "scatterpolargl"
           }
          ],
          "scatterternary": [
           {
            "marker": {
             "colorbar": {
              "outlinewidth": 0,
              "ticks": ""
             }
            },
            "type": "scatterternary"
           }
          ],
          "surface": [
           {
            "colorbar": {
             "outlinewidth": 0,
             "ticks": ""
            },
            "colorscale": [
             [
              0,
              "#0d0887"
             ],
             [
              0.1111111111111111,
              "#46039f"
             ],
             [
              0.2222222222222222,
              "#7201a8"
             ],
             [
              0.3333333333333333,
              "#9c179e"
             ],
             [
              0.4444444444444444,
              "#bd3786"
             ],
             [
              0.5555555555555556,
              "#d8576b"
             ],
             [
              0.6666666666666666,
              "#ed7953"
             ],
             [
              0.7777777777777778,
              "#fb9f3a"
             ],
             [
              0.8888888888888888,
              "#fdca26"
             ],
             [
              1,
              "#f0f921"
             ]
            ],
            "type": "surface"
           }
          ],
          "table": [
           {
            "cells": {
             "fill": {
              "color": "#EBF0F8"
             },
             "line": {
              "color": "white"
             }
            },
            "header": {
             "fill": {
              "color": "#C8D4E3"
             },
             "line": {
              "color": "white"
             }
            },
            "type": "table"
           }
          ]
         },
         "layout": {
          "annotationdefaults": {
           "arrowcolor": "#2a3f5f",
           "arrowhead": 0,
           "arrowwidth": 1
          },
          "autotypenumbers": "strict",
          "coloraxis": {
           "colorbar": {
            "outlinewidth": 0,
            "ticks": ""
           }
          },
          "colorscale": {
           "diverging": [
            [
             0,
             "#8e0152"
            ],
            [
             0.1,
             "#c51b7d"
            ],
            [
             0.2,
             "#de77ae"
            ],
            [
             0.3,
             "#f1b6da"
            ],
            [
             0.4,
             "#fde0ef"
            ],
            [
             0.5,
             "#f7f7f7"
            ],
            [
             0.6,
             "#e6f5d0"
            ],
            [
             0.7,
             "#b8e186"
            ],
            [
             0.8,
             "#7fbc41"
            ],
            [
             0.9,
             "#4d9221"
            ],
            [
             1,
             "#276419"
            ]
           ],
           "sequential": [
            [
             0,
             "#0d0887"
            ],
            [
             0.1111111111111111,
             "#46039f"
            ],
            [
             0.2222222222222222,
             "#7201a8"
            ],
            [
             0.3333333333333333,
             "#9c179e"
            ],
            [
             0.4444444444444444,
             "#bd3786"
            ],
            [
             0.5555555555555556,
             "#d8576b"
            ],
            [
             0.6666666666666666,
             "#ed7953"
            ],
            [
             0.7777777777777778,
             "#fb9f3a"
            ],
            [
             0.8888888888888888,
             "#fdca26"
            ],
            [
             1,
             "#f0f921"
            ]
           ],
           "sequentialminus": [
            [
             0,
             "#0d0887"
            ],
            [
             0.1111111111111111,
             "#46039f"
            ],
            [
             0.2222222222222222,
             "#7201a8"
            ],
            [
             0.3333333333333333,
             "#9c179e"
            ],
            [
             0.4444444444444444,
             "#bd3786"
            ],
            [
             0.5555555555555556,
             "#d8576b"
            ],
            [
             0.6666666666666666,
             "#ed7953"
            ],
            [
             0.7777777777777778,
             "#fb9f3a"
            ],
            [
             0.8888888888888888,
             "#fdca26"
            ],
            [
             1,
             "#f0f921"
            ]
           ]
          },
          "colorway": [
           "#636efa",
           "#EF553B",
           "#00cc96",
           "#ab63fa",
           "#FFA15A",
           "#19d3f3",
           "#FF6692",
           "#B6E880",
           "#FF97FF",
           "#FECB52"
          ],
          "font": {
           "color": "#2a3f5f"
          },
          "geo": {
           "bgcolor": "white",
           "lakecolor": "white",
           "landcolor": "#E5ECF6",
           "showlakes": true,
           "showland": true,
           "subunitcolor": "white"
          },
          "hoverlabel": {
           "align": "left"
          },
          "hovermode": "closest",
          "mapbox": {
           "style": "light"
          },
          "paper_bgcolor": "white",
          "plot_bgcolor": "#E5ECF6",
          "polar": {
           "angularaxis": {
            "gridcolor": "white",
            "linecolor": "white",
            "ticks": ""
           },
           "bgcolor": "#E5ECF6",
           "radialaxis": {
            "gridcolor": "white",
            "linecolor": "white",
            "ticks": ""
           }
          },
          "scene": {
           "xaxis": {
            "backgroundcolor": "#E5ECF6",
            "gridcolor": "white",
            "gridwidth": 2,
            "linecolor": "white",
            "showbackground": true,
            "ticks": "",
            "zerolinecolor": "white"
           },
           "yaxis": {
            "backgroundcolor": "#E5ECF6",
            "gridcolor": "white",
            "gridwidth": 2,
            "linecolor": "white",
            "showbackground": true,
            "ticks": "",
            "zerolinecolor": "white"
           },
           "zaxis": {
            "backgroundcolor": "#E5ECF6",
            "gridcolor": "white",
            "gridwidth": 2,
            "linecolor": "white",
            "showbackground": true,
            "ticks": "",
            "zerolinecolor": "white"
           }
          },
          "shapedefaults": {
           "line": {
            "color": "#2a3f5f"
           }
          },
          "ternary": {
           "aaxis": {
            "gridcolor": "white",
            "linecolor": "white",
            "ticks": ""
           },
           "baxis": {
            "gridcolor": "white",
            "linecolor": "white",
            "ticks": ""
           },
           "bgcolor": "#E5ECF6",
           "caxis": {
            "gridcolor": "white",
            "linecolor": "white",
            "ticks": ""
           }
          },
          "title": {
           "x": 0.05
          },
          "xaxis": {
           "automargin": true,
           "gridcolor": "white",
           "linecolor": "white",
           "ticks": "",
           "title": {
            "standoff": 15
           },
           "zerolinecolor": "white",
           "zerolinewidth": 2
          },
          "yaxis": {
           "automargin": true,
           "gridcolor": "white",
           "linecolor": "white",
           "ticks": "",
           "title": {
            "standoff": 15
           },
           "zerolinecolor": "white",
           "zerolinewidth": 2
          }
         }
        },
        "xaxis": {
         "anchor": "y",
         "categoryarray": [
          "1-30%",
          "30-60%",
          "60-100%"
         ],
         "categoryorder": "array",
         "domain": [
          0,
          1
         ],
         "title": {
          "text": "Size Difference (%)"
         }
        },
        "yaxis": {
         "anchor": "x",
         "domain": [
          0,
          1
         ],
         "title": {
          "text": "Count"
         }
        }
       }
      }
     },
     "metadata": {},
     "output_type": "display_data"
    }
   ],
   "source": [
    "bins = [0, 30, 60, 100]\n",
    "labels = ['1-30%', '30-60%', '60-100%']\n",
    "potential_duplicates_df_based_on_name['Binned Size Difference'] = pd.cut(potential_duplicates_df_based_on_name['Size Difference (%)'], bins=bins, labels=labels, include_lowest=True)\n",
    "\n",
    "fig = px.histogram(potential_duplicates_df_based_on_name, x='Binned Size Difference',\n",
    "                   text_auto=True,\n",
    "                   category_orders={'Binned Size Difference': ['1-30%', '30-60%', '60-100%']},\n",
    "                   color_discrete_sequence=['#2d3546'] \n",
    "                   )\n",
    "\n",
    "fig.update_layout(\n",
    "    xaxis_title=\"Size Difference (%)\",\n",
    "    yaxis_title=\"Count\",\n",
    ")\n",
    "\n",
    "fig.show()"
   ]
  },
  {
   "cell_type": "markdown",
   "metadata": {},
   "source": [
    "We can clearly see that most of the duplicate datasets on Kaggle matched on the year in the title with the original datasets have significant difference with the 60-100% \"Size Difference (%)\" dominating."
   ]
  }
 ],
 "metadata": {
  "kernelspec": {
   "display_name": ".venv",
   "language": "python",
   "name": "python3"
  },
  "language_info": {
   "codemirror_mode": {
    "name": "ipython",
    "version": 3
   },
   "file_extension": ".py",
   "mimetype": "text/x-python",
   "name": "python",
   "nbconvert_exporter": "python",
   "pygments_lexer": "ipython3",
   "version": "3.12.6"
  }
 },
 "nbformat": 4,
 "nbformat_minor": 2
}
