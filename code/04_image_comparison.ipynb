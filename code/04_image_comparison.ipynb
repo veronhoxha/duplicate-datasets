{
 "cells": [
  {
   "cell_type": "code",
   "execution_count": 25,
   "metadata": {},
   "outputs": [],
   "source": [
    "import os"
   ]
  },
  {
   "cell_type": "code",
   "execution_count": 26,
   "metadata": {},
   "outputs": [],
   "source": [
    "def count_images(directory):\n",
    "    image_extensions = {'.jpg', '.jpeg', '.png'}\n",
    "\n",
    "    image_count = 0\n",
    "    \n",
    "    for file_name in os.listdir(directory):\n",
    "        if os.path.splitext(file_name)[1].lower() in image_extensions:\n",
    "            image_count += 1\n",
    "    return image_count"
   ]
  },
  {
   "cell_type": "code",
   "execution_count": 27,
   "metadata": {},
   "outputs": [],
   "source": [
    "def compare_image_counts(folder_a, folder_b):\n",
    "    subfolders = ['train', 'test', 'val']\n",
    "    results = {}\n",
    "\n",
    "    for subfolder in subfolders:\n",
    "        dir_a = os.path.join(folder_a, subfolder)\n",
    "        dir_b = os.path.join(folder_b, subfolder)\n",
    "\n",
    "        if os.path.exists(dir_a) and os.path.exists(dir_b):\n",
    "            count_a = count_images(dir_a)\n",
    "            count_b = count_images(dir_b)\n",
    "            results[subfolder] = {\n",
    "                'Folder A': count_a, \n",
    "                'Folder B': count_b, \n",
    "                'Match': count_a == count_b\n",
    "            }\n",
    "        elif os.path.exists(dir_a) and not os.path.exists(dir_b):\n",
    "            count_a = count_images(dir_a)\n",
    "            results[subfolder] = {\n",
    "                'Folder A': count_a, \n",
    "                'Folder B': 'Directory not found', \n",
    "                'Match': False\n",
    "            }\n",
    "        elif not os.path.exists(dir_a) and os.path.exists(dir_b):\n",
    "            count_b = count_images(dir_b)\n",
    "            results[subfolder] = {\n",
    "                'Folder A': 'Directory not found', \n",
    "                'Folder B': count_b, \n",
    "                'Match': False\n",
    "            }\n",
    "        else:\n",
    "            results[subfolder] = {\n",
    "                'Folder A': 'Directory not found', \n",
    "                'Folder B': 'Directory not found', \n",
    "                'Match': 'N/A'\n",
    "            }\n",
    "\n",
    "    return results"
   ]
  },
  {
   "cell_type": "code",
   "execution_count": 28,
   "metadata": {},
   "outputs": [],
   "source": [
    "def compare_multiple_datasets(folder_pairs):\n",
    "    all_results = {}\n",
    "    for pair_index, (folder_a, folder_b) in enumerate(folder_pairs, start=1):\n",
    "        # print(f\"comparing Folder Pair {pair_index}: {folder_a} vs {folder_b}\")\n",
    "        comparison_results = compare_image_counts(folder_a, folder_b)\n",
    "        all_results[f\"Pair {pair_index} ({folder_a} vs {folder_b})\"] = comparison_results\n",
    "    \n",
    "    return all_results"
   ]
  },
  {
   "cell_type": "code",
   "execution_count": 29,
   "metadata": {},
   "outputs": [
    {
     "name": "stdout",
     "output_type": "stream",
     "text": [
      "\n",
      "Results for Pair 1 (../data/duplicate_data/ISIC-2017-1-FOLD vs ../data/original_data/ISIC-2017-Challange):\n",
      "  Train - Folder A: 0, Folder B: Directory not found, Match: False\n",
      "  Test - Folder A: 0, Folder B: Directory not found, Match: False\n",
      "  Val - Folder A: 0, Folder B: Directory not found, Match: False\n",
      "\n",
      "Results for Pair 2 (../data/duplicate_data/ISIC-2018 vs ../data/original_data/ISIC-2018-Challange):\n",
      "  Train - Folder A: 2594, Folder B: 12609, Match: False\n",
      "  Test - Folder A: 1000, Folder B: 2512, Match: False\n",
      "  Val - Folder A: 100, Folder B: 293, Match: False\n",
      "\n",
      "Results for Pair 3 (../data/duplicate_data/ISIC-2019-Preprocessed-Dataset vs ../data/original_data/ISIC-2019-Challange):\n",
      "  Train - Folder A: 25331, Folder B: 25331, Match: True\n",
      "  Test - Folder A: Directory not found, Folder B: 8238, Match: False\n",
      "  Val - Folder A: Directory not found, Folder B: Directory not found, Match: N/A\n"
     ]
    }
   ],
   "source": [
    "folder_pairs = [\n",
    "    (\"../data/duplicate_data/ISIC-2017-1-FOLD\", \"../data/original_data/ISIC-2017-Challange\"),\n",
    "    (\"../data/duplicate_data/ISIC-2018\", \"../data/original_data/ISIC-2018-Challange\"),\n",
    "    (\"../data/duplicate_data/ISIC-2019-Preprocessed-Dataset\", \"../data/original_data/ISIC-2019-Challange\")\n",
    "]\n",
    "\n",
    "results = compare_multiple_datasets(folder_pairs)\n",
    "for result_description, comparison_result in results.items():\n",
    "    print(f\"\\nResults for {result_description}:\")\n",
    "    for subfolder, details in comparison_result.items():\n",
    "        print(f\"  {subfolder.capitalize()} - Folder A: {details['Folder A']}, Folder B: {details['Folder B']}, Match: {details['Match']}\")"
   ]
  }
 ],
 "metadata": {
  "kernelspec": {
   "display_name": ".venv",
   "language": "python",
   "name": "python3"
  },
  "language_info": {
   "codemirror_mode": {
    "name": "ipython",
    "version": 3
   },
   "file_extension": ".py",
   "mimetype": "text/x-python",
   "name": "python",
   "nbconvert_exporter": "python",
   "pygments_lexer": "ipython3",
   "version": "3.12.6"
  }
 },
 "nbformat": 4,
 "nbformat_minor": 2
}
