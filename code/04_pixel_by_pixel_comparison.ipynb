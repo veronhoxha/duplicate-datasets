{
 "cells": [
  {
   "cell_type": "markdown",
   "metadata": {},
   "source": [
    "# Pixel by Pixel comparison on common images between matching datasets where the dimension of the images is the same"
   ]
  },
  {
   "cell_type": "markdown",
   "metadata": {},
   "source": [
    "## Imports"
   ]
  },
  {
   "cell_type": "code",
   "execution_count": 9,
   "metadata": {},
   "outputs": [],
   "source": [
    "import os\n",
    "from PIL import Image\n",
    "import pandas as pd"
   ]
  },
  {
   "cell_type": "code",
   "execution_count": 10,
   "metadata": {},
   "outputs": [],
   "source": [
    "def pixel_compare(image_path_a, image_path_b):\n",
    "    try:\n",
    "        with Image.open(image_path_a) as img_a, Image.open(image_path_b) as img_b:\n",
    "            if img_a.size != img_b.size:\n",
    "                return False\n",
    "            # checking images are in the same mode\n",
    "            if img_a.mode != img_b.mode:\n",
    "                img_b = img_b.convert(img_a.mode)\n",
    "            # comparing pixel data\n",
    "            return list(img_a.getdata()) == list(img_b.getdata())\n",
    "    except Exception as e:\n",
    "        return False"
   ]
  },
  {
   "cell_type": "code",
   "execution_count": 11,
   "metadata": {},
   "outputs": [],
   "source": [
    "def perform_pixel_comparison(folder_duplicate, folder_original, pair_index, subfolder):\n",
    "    dir_duplicate = os.path.join(folder_duplicate, subfolder)\n",
    "    dir_original = os.path.join(folder_original, subfolder)\n",
    "    \n",
    "    if not os.path.exists(dir_duplicate) or not os.path.exists(dir_original):\n",
    "        print(f\"Either duplicate or original directory does not exist for subfolder {subfolder}.\")\n",
    "        return\n",
    "    \n",
    "    result_desc_safe = f\"Pair_{pair_index}_(Duplicate_Data_-_{os.path.basename(folder_duplicate)}_vs_Original_Data_-_{os.path.basename(folder_original)})\"\n",
    "    subfolder_safe = subfolder.replace(\" \", \"_\")\n",
    "    \n",
    "    dimensions_csv = f\"../data/size_dimension_comparison/all_dimensions_{result_desc_safe}_{subfolder_safe}.csv\"\n",
    "    mismatched_sizes_csv = f\"../data/size_dimension_comparison/mismatched_sizes_{result_desc_safe}_{subfolder_safe}.csv\"\n",
    "    \n",
    "    # checking if CSV files exist\n",
    "    if not os.path.exists(dimensions_csv):\n",
    "        print(f\"Dimensions CSV file not found: {dimensions_csv}\")\n",
    "        return\n",
    "    if not os.path.exists(mismatched_sizes_csv):\n",
    "        print(f\"Mismatched sizes CSV file not found: {mismatched_sizes_csv}\")\n",
    "        return\n",
    "\n",
    "    dimensions_df = pd.read_csv(dimensions_csv)\n",
    "    mismatched_sizes_df = pd.read_csv(mismatched_sizes_csv)\n",
    "    \n",
    "    # finding images with matching dimensions\n",
    "    dimensions_df[\"Dimensions Match\"] = dimensions_df[\"Dimension Duplicate\"] == dimensions_df[\"Dimension Original\"]\n",
    "    matching_dimensions_df = dimensions_df[dimensions_df[\"Dimensions Match\"]]\n",
    "    \n",
    "    # finding images with mismatched sizes and matching dimensions (we can only compare images pixel by pixel if they have same dimensions)\n",
    "    images_to_compare = pd.merge(matching_dimensions_df[[\"Filename\"]], mismatched_sizes_df[[\"Filename\"]], on=\"Filename\")\n",
    "    \n",
    "    print(f\"\\nPerforming pixel comparison for {result_desc_safe} - {subfolder}:\")\n",
    "    print(f\"Number of images to compare: {len(images_to_compare)}\")\n",
    "    \n",
    "    if images_to_compare.empty:\n",
    "        print(\"No images to compare for this subfolder.\")\n",
    "        return\n",
    "    \n",
    "    # pixel-by-pixel comparison\n",
    "    pixel_comparison_results = []\n",
    "    for index, row in images_to_compare.iterrows():\n",
    "        filename = row[\"Filename\"]\n",
    "        image_path_duplicate = os.path.join(dir_duplicate, filename)\n",
    "        image_path_original = os.path.join(dir_original, filename)\n",
    "        \n",
    "        if not os.path.exists(image_path_duplicate):\n",
    "            print(f\"Duplicate image not found: {image_path_duplicate}\")\n",
    "            continue\n",
    "        if not os.path.exists(image_path_original):\n",
    "            print(f\"Original image not found: {image_path_original}\")\n",
    "            continue\n",
    "        \n",
    "        identical = pixel_compare(image_path_duplicate, image_path_original)\n",
    "        \n",
    "        pixel_comparison_results.append({\n",
    "            \"Filename\": filename,\n",
    "            \"Identical\": identical\n",
    "        })\n",
    "    \n",
    "    pixel_comparison_df = pd.DataFrame(pixel_comparison_results)\n",
    "    \n",
    "    csv_filename = f\"../data/pixel_by_pixel_comparison/pixel_comparison_{result_desc_safe}_{subfolder_safe}.csv\"\n",
    "    pixel_comparison_df.to_csv(csv_filename, index=False)\n",
    "    \n",
    "    total_images = len(pixel_comparison_df)\n",
    "    identical_images = pixel_comparison_df[\"Identical\"].sum()\n",
    "    different_images = total_images - identical_images\n",
    "    \n",
    "    print(f\"Total images compared: {total_images}\")\n",
    "    print(f\"Identical images: {identical_images}\")\n",
    "    print(f\"Different images: {different_images}\")"
   ]
  },
  {
   "cell_type": "code",
   "execution_count": 12,
   "metadata": {},
   "outputs": [
    {
     "name": "stdout",
     "output_type": "stream",
     "text": [
      "\n",
      "Performing pixel comparison for Pair_1_(Duplicate_Data_-_ISIC-2017-1-FOLD_vs_Original_Data_-_ISIC-2017-Challenge) - train:\n",
      "Number of images to compare: 0\n",
      "No images to compare for this subfolder.\n",
      "\n",
      "Performing pixel comparison for Pair_1_(Duplicate_Data_-_ISIC-2017-1-FOLD_vs_Original_Data_-_ISIC-2017-Challenge) - test:\n",
      "Number of images to compare: 0\n",
      "No images to compare for this subfolder.\n",
      "\n",
      "Performing pixel comparison for Pair_1_(Duplicate_Data_-_ISIC-2017-1-FOLD_vs_Original_Data_-_ISIC-2017-Challenge) - val:\n",
      "Number of images to compare: 0\n",
      "No images to compare for this subfolder.\n",
      "\n",
      "Performing pixel comparison for Pair_2_(Duplicate_Data_-_ISIC-2018_vs_Original_Data_-_ISIC-2018-Challenge) - train:\n",
      "Number of images to compare: 0\n",
      "No images to compare for this subfolder.\n",
      "\n",
      "Performing pixel comparison for Pair_2_(Duplicate_Data_-_ISIC-2018_vs_Original_Data_-_ISIC-2018-Challenge) - test:\n",
      "Number of images to compare: 0\n",
      "No images to compare for this subfolder.\n",
      "\n",
      "Performing pixel comparison for Pair_2_(Duplicate_Data_-_ISIC-2018_vs_Original_Data_-_ISIC-2018-Challenge) - val:\n",
      "Number of images to compare: 0\n",
      "No images to compare for this subfolder.\n",
      "\n",
      "Performing pixel comparison for Pair_3_(Duplicate_Data_-_ISIC-2019-Preprocessed-Dataset_vs_Original_Data_-_ISIC-2019-Challenge) - train:\n",
      "Number of images to compare: 12414\n",
      "Total images compared: 12414\n",
      "Identical images: 0\n",
      "Different images: 12414\n",
      "Either duplicate or original directory does not exist for subfolder test.\n",
      "Either duplicate or original directory does not exist for subfolder val.\n"
     ]
    }
   ],
   "source": [
    "folder_pairs = [\n",
    "    (\"../data/duplicate_data/ISIC-2017-1-FOLD\", \"../data/original_data/ISIC-2017-Challenge\"), \n",
    "    (\"../data/duplicate_data/ISIC-2018\", \"../data/original_data/ISIC-2018-Challenge\"),\n",
    "    (\"../data/duplicate_data/ISIC-2019-Preprocessed-Dataset\", \"../data/original_data/ISIC-2019-Challenge\")\n",
    "]\n",
    "subfolders = [\"train\", \"test\", \"val\"]\n",
    "\n",
    "for pair_index, (folder_duplicate, folder_original) in enumerate(folder_pairs, start=1):\n",
    "    for subfolder in subfolders:\n",
    "        perform_pixel_comparison(folder_duplicate, folder_original, pair_index, subfolder)"
   ]
  }
 ],
 "metadata": {
  "kernelspec": {
   "display_name": ".venv",
   "language": "python",
   "name": "python3"
  },
  "language_info": {
   "codemirror_mode": {
    "name": "ipython",
    "version": 3
   },
   "file_extension": ".py",
   "mimetype": "text/x-python",
   "name": "python",
   "nbconvert_exporter": "python",
   "pygments_lexer": "ipython3",
   "version": "3.12.6"
  }
 },
 "nbformat": 4,
 "nbformat_minor": 2
}
